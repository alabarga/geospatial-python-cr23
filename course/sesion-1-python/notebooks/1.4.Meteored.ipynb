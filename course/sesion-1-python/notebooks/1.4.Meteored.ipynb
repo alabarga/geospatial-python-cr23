{
 "cells": [
  {
   "cell_type": "markdown",
   "id": "abb26eef",
   "metadata": {},
   "source": [
    "# Meteored"
   ]
  },
  {
   "cell_type": "markdown",
   "id": "95d53e4d",
   "metadata": {},
   "source": [
    "https://www.meteored.cr/api/"
   ]
  },
  {
   "cell_type": "code",
   "execution_count": 2,
   "id": "d72c1ccb",
   "metadata": {},
   "outputs": [],
   "source": [
    "import requests"
   ]
  },
  {
   "cell_type": "code",
   "execution_count": null,
   "id": "35c9ec3e",
   "metadata": {},
   "outputs": [],
   "source": []
  },
  {
   "cell_type": "code",
   "execution_count": 3,
   "id": "06a6e849",
   "metadata": {},
   "outputs": [],
   "source": [
    "prov_url = 'http://api.meteored.cr/index.php?api_lang=cr&pais=114&affiliate_id=htgcxkmv8325'"
   ]
  },
  {
   "cell_type": "code",
   "execution_count": 6,
   "id": "aaa6e0e3",
   "metadata": {},
   "outputs": [],
   "source": [
    "resp = requests.get(prov_url)"
   ]
  },
  {
   "cell_type": "code",
   "execution_count": 25,
   "id": "9eebbc21",
   "metadata": {},
   "outputs": [
    {
     "data": {
      "text/plain": [
       "'<?xml version=\"1.0\" encoding=\"UTF-8\" ?><report><location city=\"Listado de Provincias - Costa Rica\" num=\"7\" level=\"2\" level_name=\"Provincia\"><data><name id=\"237\">Alajuela</name><url>http://api.meteored.cr/index.php?api_lang=cr&amp;division=237</url></data><data><name id=\"234\">Cartago</name><url>http://api.meteored.cr/index.php?api_lang=cr&amp;division=234</url></data><data><name id=\"238\">Guanacaste</name><url>http://api.meteored.cr/index.php?api_lang=cr&amp;division=238</url></data><data><name id=\"239\">Heredia</name><url>http://api.meteored.cr/index.php?api_lang=cr&amp;division=239</url></data><data><name id=\"235\">Limón</name><url>http://api.meteored.cr/index.php?api_lang=cr&amp;division=235</url></data><data><name id=\"155\">Puntarenas</name><url>http://api.meteored.cr/index.php?api_lang=cr&amp;division=155</url></data><data><name id=\"236\">San José</name><url>http://api.meteored.cr/index.php?api_lang=cr&amp;division=236</url></data></location></report>'"
      ]
     },
     "execution_count": 25,
     "metadata": {},
     "output_type": "execute_result"
    }
   ],
   "source": [
    "resp.text"
   ]
  },
  {
   "cell_type": "code",
   "execution_count": 10,
   "id": "b6deaf07",
   "metadata": {},
   "outputs": [],
   "source": [
    "from xml.etree import ElementTree"
   ]
  },
  {
   "cell_type": "code",
   "execution_count": 26,
   "id": "b83345dd",
   "metadata": {},
   "outputs": [],
   "source": [
    "document = ElementTree.fromstring(resp.text)"
   ]
  },
  {
   "cell_type": "code",
   "execution_count": 32,
   "id": "6a52a22b",
   "metadata": {},
   "outputs": [
    {
     "data": {
      "text/plain": [
       "['__class__',\n",
       " '__copy__',\n",
       " '__deepcopy__',\n",
       " '__delattr__',\n",
       " '__delitem__',\n",
       " '__dir__',\n",
       " '__doc__',\n",
       " '__eq__',\n",
       " '__format__',\n",
       " '__ge__',\n",
       " '__getattribute__',\n",
       " '__getitem__',\n",
       " '__getstate__',\n",
       " '__gt__',\n",
       " '__hash__',\n",
       " '__init__',\n",
       " '__init_subclass__',\n",
       " '__le__',\n",
       " '__len__',\n",
       " '__lt__',\n",
       " '__ne__',\n",
       " '__new__',\n",
       " '__reduce__',\n",
       " '__reduce_ex__',\n",
       " '__repr__',\n",
       " '__setattr__',\n",
       " '__setitem__',\n",
       " '__setstate__',\n",
       " '__sizeof__',\n",
       " '__str__',\n",
       " '__subclasshook__',\n",
       " 'append',\n",
       " 'attrib',\n",
       " 'clear',\n",
       " 'extend',\n",
       " 'find',\n",
       " 'findall',\n",
       " 'findtext',\n",
       " 'get',\n",
       " 'insert',\n",
       " 'items',\n",
       " 'iter',\n",
       " 'iterfind',\n",
       " 'itertext',\n",
       " 'keys',\n",
       " 'makeelement',\n",
       " 'remove',\n",
       " 'set',\n",
       " 'tag',\n",
       " 'tail',\n",
       " 'text']"
      ]
     },
     "execution_count": 32,
     "metadata": {},
     "output_type": "execute_result"
    }
   ],
   "source": [
    "dir(document)"
   ]
  },
  {
   "cell_type": "code",
   "execution_count": 39,
   "id": "e08a38a3",
   "metadata": {},
   "outputs": [
    {
     "name": "stdout",
     "output_type": "stream",
     "text": [
      "Alajuela 237\n",
      "Cartago 234\n",
      "Guanacaste 238\n",
      "Heredia 239\n",
      "Limón 235\n",
      "Puntarenas 155\n",
      "San José 236\n"
     ]
    }
   ],
   "source": [
    "for item in document.iterfind('location/data/name'):\n",
    "    print(item.text, item.attrib['id'])"
   ]
  },
  {
   "cell_type": "code",
   "execution_count": 40,
   "id": "a30eaf7d",
   "metadata": {},
   "outputs": [],
   "source": [
    "mun_url = 'http://api.meteored.cr/index.php?api_lang=cr&division=238&affiliate_id=htgcxkmv8325'\n",
    "\n"
   ]
  },
  {
   "cell_type": "code",
   "execution_count": 41,
   "id": "15a796b9",
   "metadata": {},
   "outputs": [],
   "source": [
    "resp = requests.get(mun_url)"
   ]
  },
  {
   "cell_type": "code",
   "execution_count": 42,
   "id": "e636ebb9",
   "metadata": {},
   "outputs": [
    {
     "data": {
      "text/plain": [
       "'<?xml version=\"1.0\" encoding=\"UTF-8\" ?><report><location city=\"Listado de localidades - Guanacaste\" num=\"27\" level=\"3\" level_name=\"Localidad\"><data><name id=\"19570\">Bagaces</name><url>http://api.meteored.cr/index.php?api_lang=cr&amp;localidad=19570</url></data><data><name id=\"19610\">Bejuco</name><url>http://api.meteored.cr/index.php?api_lang=cr&amp;localidad=19610</url></data><data><name id=\"19569\">Belén</name><url>http://api.meteored.cr/index.php?api_lang=cr&amp;localidad=19569</url></data><data><name id=\"19568\">Cañas</name><url>http://api.meteored.cr/index.php?api_lang=cr&amp;localidad=19568</url></data><data><name id=\"19567\">Carmona</name><url>http://api.meteored.cr/index.php?api_lang=cr&amp;localidad=19567</url></data><data><name id=\"19566\">Comunidad</name><url>http://api.meteored.cr/index.php?api_lang=cr&amp;localidad=19566</url></data><data><name id=\"19565\">Culebra</name><url>http://api.meteored.cr/index.php?api_lang=cr&amp;localidad=19565</url></data><data><name id=\"19564\">Filadelfia</name><url>http://api.meteored.cr/index.php?api_lang=cr&amp;localidad=19564</url></data><data><name id=\"19620\">Hojancha</name><url>http://api.meteored.cr/index.php?api_lang=cr&amp;localidad=19620</url></data><data><name id=\"19573\">Juntas</name><url>http://api.meteored.cr/index.php?api_lang=cr&amp;localidad=19573</url></data><data><name id=\"19588\">La Cruz</name><url>http://api.meteored.cr/index.php?api_lang=cr&amp;localidad=19588</url></data><data><name id=\"19622\">Liberia</name><url>http://api.meteored.cr/index.php?api_lang=cr&amp;localidad=19622</url></data><data><name id=\"19575\">Mansion</name><url>http://api.meteored.cr/index.php?api_lang=cr&amp;localidad=19575</url></data><data><name id=\"19600\">Nicoya</name><url>http://api.meteored.cr/index.php?api_lang=cr&amp;localidad=19600</url></data><data><name id=\"19599\">Portegolpe</name><url>http://api.meteored.cr/index.php?api_lang=cr&amp;localidad=19599</url></data><data><name id=\"19598\">Potrerillos</name><url>http://api.meteored.cr/index.php?api_lang=cr&amp;localidad=19598</url></data><data><name id=\"19597\">Potrero</name><url>http://api.meteored.cr/index.php?api_lang=cr&amp;localidad=19597</url></data><data><name id=\"19596\">Puerto Jesus</name><url>http://api.meteored.cr/index.php?api_lang=cr&amp;localidad=19596</url></data><data><name id=\"19587\">Puerto Soley</name><url>http://api.meteored.cr/index.php?api_lang=cr&amp;localidad=19587</url></data><data><name id=\"19595\">Puerto Viejo</name><url>http://api.meteored.cr/index.php?api_lang=cr&amp;localidad=19595</url></data><data><name id=\"19594\">Quebrada Honda</name><url>http://api.meteored.cr/index.php?api_lang=cr&amp;localidad=19594</url></data><data><name id=\"19593\">San Antonio</name><url>http://api.meteored.cr/index.php?api_lang=cr&amp;localidad=19593</url></data><data><name id=\"19586\">Santa Cecilia</name><url>http://api.meteored.cr/index.php?api_lang=cr&amp;localidad=19586</url></data><data><name id=\"19592\">Santa Cruz</name><url>http://api.meteored.cr/index.php?api_lang=cr&amp;localidad=19592</url></data><data><name id=\"19585\">Sardinal</name><url>http://api.meteored.cr/index.php?api_lang=cr&amp;localidad=19585</url></data><data><name id=\"19590\">Tempate</name><url>http://api.meteored.cr/index.php?api_lang=cr&amp;localidad=19590</url></data><data><name id=\"19601\">Tilaran</name><url>http://api.meteored.cr/index.php?api_lang=cr&amp;localidad=19601</url></data></location></report>'"
      ]
     },
     "execution_count": 42,
     "metadata": {},
     "output_type": "execute_result"
    }
   ],
   "source": [
    "resp.text"
   ]
  },
  {
   "cell_type": "code",
   "execution_count": 43,
   "id": "f8bb3806",
   "metadata": {},
   "outputs": [
    {
     "name": "stdout",
     "output_type": "stream",
     "text": [
      "Bagaces 19570\n",
      "Bejuco 19610\n",
      "Belén 19569\n",
      "Cañas 19568\n",
      "Carmona 19567\n",
      "Comunidad 19566\n",
      "Culebra 19565\n",
      "Filadelfia 19564\n",
      "Hojancha 19620\n",
      "Juntas 19573\n",
      "La Cruz 19588\n",
      "Liberia 19622\n",
      "Mansion 19575\n",
      "Nicoya 19600\n",
      "Portegolpe 19599\n",
      "Potrerillos 19598\n",
      "Potrero 19597\n",
      "Puerto Jesus 19596\n",
      "Puerto Soley 19587\n",
      "Puerto Viejo 19595\n",
      "Quebrada Honda 19594\n",
      "San Antonio 19593\n",
      "Santa Cecilia 19586\n",
      "Santa Cruz 19592\n",
      "Sardinal 19585\n",
      "Tempate 19590\n",
      "Tilaran 19601\n"
     ]
    }
   ],
   "source": [
    "document = ElementTree.fromstring(resp.text)\n",
    "for item in document.iterfind('location/data/name'):\n",
    "    print(item.text, item.attrib['id'])"
   ]
  },
  {
   "cell_type": "code",
   "execution_count": 1,
   "id": "ef5bd02c",
   "metadata": {},
   "outputs": [],
   "source": [
    "api_url = 'http://api.meteored.cr/index.php?api_lang=cr&localidad=19568&affiliate_id=htgcxkmv8325&v=3.0'"
   ]
  },
  {
   "cell_type": "code",
   "execution_count": 44,
   "id": "7f740dde",
   "metadata": {},
   "outputs": [],
   "source": [
    "resp = requests.get(api_url)"
   ]
  },
  {
   "cell_type": "code",
   "execution_count": 46,
   "id": "86d84078",
   "metadata": {},
   "outputs": [],
   "source": [
    "pred = resp.json()"
   ]
  },
  {
   "cell_type": "code",
   "execution_count": 53,
   "id": "fe91591f",
   "metadata": {},
   "outputs": [],
   "source": [
    "import pandas as pd"
   ]
  },
  {
   "cell_type": "code",
   "execution_count": 54,
   "id": "0c3f7267",
   "metadata": {},
   "outputs": [
    {
     "data": {
      "text/html": [
       "<div>\n",
       "<style scoped>\n",
       "    .dataframe tbody tr th:only-of-type {\n",
       "        vertical-align: middle;\n",
       "    }\n",
       "\n",
       "    .dataframe tbody tr th {\n",
       "        vertical-align: top;\n",
       "    }\n",
       "\n",
       "    .dataframe thead th {\n",
       "        text-align: right;\n",
       "    }\n",
       "</style>\n",
       "<table border=\"1\" class=\"dataframe\">\n",
       "  <thead>\n",
       "    <tr style=\"text-align: right;\">\n",
       "      <th></th>\n",
       "      <th>date</th>\n",
       "      <th>name</th>\n",
       "      <th>month</th>\n",
       "      <th>symbol_value</th>\n",
       "      <th>symbol_description</th>\n",
       "      <th>symbol_value2</th>\n",
       "      <th>symbol_description2</th>\n",
       "      <th>tempmin</th>\n",
       "      <th>tempmax</th>\n",
       "      <th>rain</th>\n",
       "      <th>...</th>\n",
       "      <th>moon.in</th>\n",
       "      <th>moon.out</th>\n",
       "      <th>moon.lumi</th>\n",
       "      <th>moon.desc</th>\n",
       "      <th>moon.symbol</th>\n",
       "      <th>units.temp</th>\n",
       "      <th>units.wind</th>\n",
       "      <th>units.rain</th>\n",
       "      <th>units.pressure</th>\n",
       "      <th>units.snowline</th>\n",
       "    </tr>\n",
       "  </thead>\n",
       "  <tbody>\n",
       "    <tr>\n",
       "      <th>0</th>\n",
       "      <td>20230718</td>\n",
       "      <td>Martes</td>\n",
       "      <td></td>\n",
       "      <td>6</td>\n",
       "      <td>Cielos nubosos con lluvias débiles</td>\n",
       "      <td>6</td>\n",
       "      <td>Cielos nubosos con lluvias débiles</td>\n",
       "      <td>25</td>\n",
       "      <td>32</td>\n",
       "      <td>0.4</td>\n",
       "      <td>...</td>\n",
       "      <td>06:07</td>\n",
       "      <td>19:07</td>\n",
       "      <td>0.88%</td>\n",
       "      <td>Luna Nueva, 0.88% Iluminada</td>\n",
       "      <td>1</td>\n",
       "      <td>°C</td>\n",
       "      <td>km/h</td>\n",
       "      <td>mm</td>\n",
       "      <td>mb</td>\n",
       "      <td>m</td>\n",
       "    </tr>\n",
       "    <tr>\n",
       "      <th>1</th>\n",
       "      <td>20230719</td>\n",
       "      <td>Miércoles</td>\n",
       "      <td></td>\n",
       "      <td>3</td>\n",
       "      <td>Cielos nubosos</td>\n",
       "      <td>3</td>\n",
       "      <td>Cielos nubosos</td>\n",
       "      <td>26</td>\n",
       "      <td>33</td>\n",
       "      <td>0</td>\n",
       "      <td>...</td>\n",
       "      <td>06:57</td>\n",
       "      <td>19:49</td>\n",
       "      <td>3.55%</td>\n",
       "      <td>Luna Creciente, 3.55% Iluminada</td>\n",
       "      <td>2</td>\n",
       "      <td>°C</td>\n",
       "      <td>km/h</td>\n",
       "      <td>mm</td>\n",
       "      <td>mb</td>\n",
       "      <td>m</td>\n",
       "    </tr>\n",
       "    <tr>\n",
       "      <th>2</th>\n",
       "      <td>20230720</td>\n",
       "      <td>Jueves</td>\n",
       "      <td></td>\n",
       "      <td>3</td>\n",
       "      <td>Cielos nubosos</td>\n",
       "      <td>3</td>\n",
       "      <td>Cielos nubosos</td>\n",
       "      <td>26</td>\n",
       "      <td>33</td>\n",
       "      <td>0</td>\n",
       "      <td>...</td>\n",
       "      <td>07:44</td>\n",
       "      <td>20:28</td>\n",
       "      <td>7.88%</td>\n",
       "      <td>Luna Creciente, 7.88% Iluminada</td>\n",
       "      <td>3</td>\n",
       "      <td>°C</td>\n",
       "      <td>km/h</td>\n",
       "      <td>mm</td>\n",
       "      <td>mb</td>\n",
       "      <td>m</td>\n",
       "    </tr>\n",
       "    <tr>\n",
       "      <th>3</th>\n",
       "      <td>20230721</td>\n",
       "      <td>Viernes</td>\n",
       "      <td></td>\n",
       "      <td>12</td>\n",
       "      <td>Cielos nubosos con chubascos tormentosos</td>\n",
       "      <td>12</td>\n",
       "      <td>Cielos nubosos con chubascos tormentosos</td>\n",
       "      <td>25</td>\n",
       "      <td>33</td>\n",
       "      <td>3.4</td>\n",
       "      <td>...</td>\n",
       "      <td>08:30</td>\n",
       "      <td>21:04</td>\n",
       "      <td>13.72%</td>\n",
       "      <td>Luna Creciente, 13.72% Iluminada</td>\n",
       "      <td>3</td>\n",
       "      <td>°C</td>\n",
       "      <td>km/h</td>\n",
       "      <td>mm</td>\n",
       "      <td>mb</td>\n",
       "      <td>m</td>\n",
       "    </tr>\n",
       "    <tr>\n",
       "      <th>4</th>\n",
       "      <td>20230722</td>\n",
       "      <td>Sábado</td>\n",
       "      <td></td>\n",
       "      <td>12</td>\n",
       "      <td>Cielos nubosos con chubascos tormentosos</td>\n",
       "      <td>12</td>\n",
       "      <td>Cielos nubosos con chubascos tormentosos</td>\n",
       "      <td>25</td>\n",
       "      <td>33</td>\n",
       "      <td>2.5</td>\n",
       "      <td>...</td>\n",
       "      <td>09:14</td>\n",
       "      <td>21:39</td>\n",
       "      <td>20.89%</td>\n",
       "      <td>Luna Creciente, 20.89% Iluminada</td>\n",
       "      <td>4</td>\n",
       "      <td>°C</td>\n",
       "      <td>km/h</td>\n",
       "      <td>mm</td>\n",
       "      <td>mb</td>\n",
       "      <td>m</td>\n",
       "    </tr>\n",
       "  </tbody>\n",
       "</table>\n",
       "<p>5 rows × 34 columns</p>\n",
       "</div>"
      ],
      "text/plain": [
       "       date       name month symbol_value  \\\n",
       "0  20230718     Martes                  6   \n",
       "1  20230719  Miércoles                  3   \n",
       "2  20230720     Jueves                  3   \n",
       "3  20230721    Viernes                 12   \n",
       "4  20230722     Sábado                 12   \n",
       "\n",
       "                         symbol_description symbol_value2  \\\n",
       "0        Cielos nubosos con lluvias débiles             6   \n",
       "1                            Cielos nubosos             3   \n",
       "2                            Cielos nubosos             3   \n",
       "3  Cielos nubosos con chubascos tormentosos            12   \n",
       "4  Cielos nubosos con chubascos tormentosos            12   \n",
       "\n",
       "                        symbol_description2 tempmin tempmax rain  ... moon.in  \\\n",
       "0        Cielos nubosos con lluvias débiles      25      32  0.4  ...   06:07   \n",
       "1                            Cielos nubosos      26      33    0  ...   06:57   \n",
       "2                            Cielos nubosos      26      33    0  ...   07:44   \n",
       "3  Cielos nubosos con chubascos tormentosos      25      33  3.4  ...   08:30   \n",
       "4  Cielos nubosos con chubascos tormentosos      25      33  2.5  ...   09:14   \n",
       "\n",
       "  moon.out moon.lumi                         moon.desc moon.symbol  \\\n",
       "0    19:07     0.88%       Luna Nueva, 0.88% Iluminada           1   \n",
       "1    19:49     3.55%   Luna Creciente, 3.55% Iluminada           2   \n",
       "2    20:28     7.88%   Luna Creciente, 7.88% Iluminada           3   \n",
       "3    21:04    13.72%  Luna Creciente, 13.72% Iluminada           3   \n",
       "4    21:39    20.89%  Luna Creciente, 20.89% Iluminada           4   \n",
       "\n",
       "   units.temp units.wind units.rain units.pressure units.snowline  \n",
       "0          °C       km/h         mm             mb              m  \n",
       "1          °C       km/h         mm             mb              m  \n",
       "2          °C       km/h         mm             mb              m  \n",
       "3          °C       km/h         mm             mb              m  \n",
       "4          °C       km/h         mm             mb              m  \n",
       "\n",
       "[5 rows x 34 columns]"
      ]
     },
     "execution_count": 54,
     "metadata": {},
     "output_type": "execute_result"
    }
   ],
   "source": [
    "pd.json_normalize(pred['day'].values())"
   ]
  },
  {
   "cell_type": "code",
   "execution_count": null,
   "id": "38f40d5a",
   "metadata": {},
   "outputs": [],
   "source": []
  }
 ],
 "metadata": {
  "kernelspec": {
   "display_name": "ironhack",
   "language": "python",
   "name": "ironhack"
  },
  "language_info": {
   "codemirror_mode": {
    "name": "ipython",
    "version": 3
   },
   "file_extension": ".py",
   "mimetype": "text/x-python",
   "name": "python",
   "nbconvert_exporter": "python",
   "pygments_lexer": "ipython3",
   "version": "3.10.6"
  }
 },
 "nbformat": 4,
 "nbformat_minor": 5
}
