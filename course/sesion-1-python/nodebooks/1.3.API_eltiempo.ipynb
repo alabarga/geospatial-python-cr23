{
 "cells": [
  {
   "cell_type": "markdown",
   "metadata": {
    "toc": true
   },
   "source": [
    "<h1>Table of Contents<span class=\"tocSkip\"></span></h1>\n",
    "<div class=\"toc\"><ul class=\"toc-item\"><li><span><a href=\"#API-(eltiempo.net)\" data-toc-modified-id=\"API-(eltiempo.net)-1\"><span class=\"toc-item-num\">1&nbsp;&nbsp;</span>API (eltiempo.net)</a></span><ul class=\"toc-item\"><li><span><a href=\"#Create-a-function-that-given-a-province-and-city-gives-you-the-weather-prediction\" data-toc-modified-id=\"Create-a-function-that-given-a-province-and-city-gives-you-the-weather-prediction-1.1\"><span class=\"toc-item-num\">1.1&nbsp;&nbsp;</span>Create a function that given a province and city gives you the weather prediction</a></span></li><li><span><a href=\"#Create-a-function-that-gives-you-the-mean-teamperature-for-tomorrow\" data-toc-modified-id=\"Create-a-function-that-gives-you-the-mean-teamperature-for-tomorrow-1.2\"><span class=\"toc-item-num\">1.2&nbsp;&nbsp;</span>Create a function that gives you the mean teamperature for tomorrow</a></span></li><li><span><a href=\"#Create-a-function-that-returns-True-if-the-probability-of-raining-tomorrow-is-bigger-than-50%-and-False-otherwise\" data-toc-modified-id=\"Create-a-function-that-returns-True-if-the-probability-of-raining-tomorrow-is-bigger-than-50%-and-False-otherwise-1.3\"><span class=\"toc-item-num\">1.3&nbsp;&nbsp;</span>Create a function that returns True if the probability of raining tomorrow is bigger than 50% and False otherwise</a></span></li></ul></li></ul></div>"
   ]
  },
  {
   "cell_type": "markdown",
   "metadata": {
    "slideshow": {
     "slide_type": "slide"
    }
   },
   "source": [
    "# API (eltiempo.net)"
   ]
  },
  {
   "cell_type": "code",
   "execution_count": 6,
   "metadata": {
    "slideshow": {
     "slide_type": "fragment"
    }
   },
   "outputs": [],
   "source": [
    "import requests\n",
    "import json"
   ]
  },
  {
   "cell_type": "code",
   "execution_count": 18,
   "metadata": {
    "slideshow": {
     "slide_type": "fragment"
    }
   },
   "outputs": [
    {
     "data": {
      "text/plain": [
       "'https://www.el-tiempo.net/api/json/v1/provincias/08/municipios/08019/weather'"
      ]
     },
     "execution_count": 18,
     "metadata": {},
     "output_type": "execute_result"
    }
   ],
   "source": [
    "provincia = '08'\n",
    "municipio = '08019'\n",
    "version = 1\n",
    "\n",
    "api_url = f'https://www.el-tiempo.net/api/json/v{version}/provincias/{provincia}/municipios/{municipio}/weather'\n",
    "api_url"
   ]
  },
  {
   "cell_type": "markdown",
   "metadata": {
    "slideshow": {
     "slide_type": "slide"
    }
   },
   "source": [
    "## Create a function that given a province and city gives you the weather prediction"
   ]
  },
  {
   "cell_type": "code",
   "execution_count": 9,
   "metadata": {
    "slideshow": {
     "slide_type": "fragment"
    }
   },
   "outputs": [],
   "source": [
    "def get_prediccion(provincia=31, municipio=31201):\n",
    "    pass"
   ]
  },
  {
   "cell_type": "markdown",
   "metadata": {
    "slideshow": {
     "slide_type": "subslide"
    }
   },
   "source": [
    "## Create a function that gives you the mean teamperature for tomorrow\n"
   ]
  },
  {
   "cell_type": "code",
   "execution_count": null,
   "metadata": {
    "slideshow": {
     "slide_type": "fragment"
    }
   },
   "outputs": [],
   "source": [
    "def temperatura(provincia=31, municipio=31201):\n",
    "    pass"
   ]
  },
  {
   "cell_type": "code",
   "execution_count": 11,
   "metadata": {
    "slideshow": {
     "slide_type": "fragment"
    }
   },
   "outputs": [
    {
     "name": "stdout",
     "output_type": "stream",
     "text": [
      "La temperatura media de mañana sera de 22.0º\n"
     ]
    }
   ],
   "source": [
    "temp = temperatura()\n",
    "print(\"La temperatura media de mañana sera de {}º\".format(temp))"
   ]
  },
  {
   "cell_type": "markdown",
   "metadata": {
    "slideshow": {
     "slide_type": "skip"
    }
   },
   "source": [
    "## Create a function that returns True if the probability of raining tomorrow is bigger than 50% and False otherwise"
   ]
  },
  {
   "cell_type": "code",
   "execution_count": 17,
   "metadata": {
    "slideshow": {
     "slide_type": "skip"
    }
   },
   "outputs": [],
   "source": [
    "def llovera_mañana():\n",
    "    pass"
   ]
  },
  {
   "cell_type": "code",
   "execution_count": 15,
   "metadata": {
    "slideshow": {
     "slide_type": "notes"
    }
   },
   "outputs": [],
   "source": [
    "if llovera_mañana():\n",
    "    print(\"Lo más probable es que mañana llueva\")"
   ]
  }
 ],
 "metadata": {
  "celltoolbar": "Slideshow",
  "kernelspec": {
   "display_name": "Ironhack",
   "language": "python",
   "name": "ironhack"
  },
  "language_info": {
   "codemirror_mode": {
    "name": "ipython",
    "version": 3
   },
   "file_extension": ".py",
   "mimetype": "text/x-python",
   "name": "python",
   "nbconvert_exporter": "python",
   "pygments_lexer": "ipython3",
   "version": "3.7.3"
  },
  "toc": {
   "base_numbering": 1,
   "nav_menu": {},
   "number_sections": true,
   "sideBar": true,
   "skip_h1_title": false,
   "title_cell": "Table of Contents",
   "title_sidebar": "Contents",
   "toc_cell": true,
   "toc_position": {},
   "toc_section_display": true,
   "toc_window_display": false
  },
  "varInspector": {
   "cols": {
    "lenName": 16,
    "lenType": 16,
    "lenVar": 40
   },
   "kernels_config": {
    "python": {
     "delete_cmd_postfix": "",
     "delete_cmd_prefix": "del ",
     "library": "var_list.py",
     "varRefreshCmd": "print(var_dic_list())"
    },
    "r": {
     "delete_cmd_postfix": ") ",
     "delete_cmd_prefix": "rm(",
     "library": "var_list.r",
     "varRefreshCmd": "cat(var_dic_list()) "
    }
   },
   "types_to_exclude": [
    "module",
    "function",
    "builtin_function_or_method",
    "instance",
    "_Feature"
   ],
   "window_display": false
  }
 },
 "nbformat": 4,
 "nbformat_minor": 2
}
