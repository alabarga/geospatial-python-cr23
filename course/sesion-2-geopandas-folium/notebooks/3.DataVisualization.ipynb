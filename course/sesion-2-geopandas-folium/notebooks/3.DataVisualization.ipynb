{
 "cells": [
  {
   "cell_type": "markdown",
   "id": "8170598b",
   "metadata": {},
   "source": [
    "# Reproducing Hans Rosling plot"
   ]
  },
  {
   "cell_type": "markdown",
   "id": "d2c830b7",
   "metadata": {},
   "source": [
    "https://seaborn.pydata.org/examples/scatter_bubbles.html"
   ]
  },
  {
   "cell_type": "code",
   "execution_count": 1,
   "id": "7263ce0e",
   "metadata": {},
   "outputs": [],
   "source": [
    "import pandas as pd\n",
    "import matplotlib.pyplot as plt\n",
    "import seaborn as sns"
   ]
  },
  {
   "cell_type": "code",
   "execution_count": 40,
   "id": "b4aafe67",
   "metadata": {},
   "outputs": [],
   "source": [
    "df = pd.read_csv('./datos/world/countries.csv')"
   ]
  },
  {
   "cell_type": "code",
   "execution_count": 41,
   "id": "cab70176",
   "metadata": {},
   "outputs": [
    {
     "data": {
      "text/plain": [
       "0      Afghanistan\n",
       "1          Albania\n",
       "2          Algeria\n",
       "3          Andorra\n",
       "4           Angola\n",
       "          ...     \n",
       "182        Vietnam\n",
       "183      Palestine\n",
       "184          Yemen\n",
       "185         Zambia\n",
       "186       Zimbabwe\n",
       "Name: country, Length: 187, dtype: object"
      ]
     },
     "execution_count": 41,
     "metadata": {},
     "output_type": "execute_result"
    }
   ],
   "source": [
    "df['country']"
   ]
  },
  {
   "cell_type": "code",
   "execution_count": 42,
   "id": "d41d08cf",
   "metadata": {},
   "outputs": [],
   "source": [
    "df.health = df.health.str.replace(',','.').astype('float')"
   ]
  },
  {
   "cell_type": "code",
   "execution_count": 43,
   "id": "e74f044c",
   "metadata": {},
   "outputs": [
    {
     "data": {
      "text/html": [
       "<div>\n",
       "<style scoped>\n",
       "    .dataframe tbody tr th:only-of-type {\n",
       "        vertical-align: middle;\n",
       "    }\n",
       "\n",
       "    .dataframe tbody tr th {\n",
       "        vertical-align: top;\n",
       "    }\n",
       "\n",
       "    .dataframe thead th {\n",
       "        text-align: right;\n",
       "    }\n",
       "</style>\n",
       "<table border=\"1\" class=\"dataframe\">\n",
       "  <thead>\n",
       "    <tr style=\"text-align: right;\">\n",
       "      <th></th>\n",
       "      <th>country</th>\n",
       "      <th>region</th>\n",
       "      <th>income</th>\n",
       "      <th>health</th>\n",
       "      <th>population</th>\n",
       "    </tr>\n",
       "  </thead>\n",
       "  <tbody>\n",
       "    <tr>\n",
       "      <th>0</th>\n",
       "      <td>Afghanistan</td>\n",
       "      <td>Europe &amp; Central Asia</td>\n",
       "      <td>1925</td>\n",
       "      <td>57.63</td>\n",
       "      <td>32526562</td>\n",
       "    </tr>\n",
       "    <tr>\n",
       "      <th>1</th>\n",
       "      <td>Albania</td>\n",
       "      <td>Europe &amp; Central Asia</td>\n",
       "      <td>10620</td>\n",
       "      <td>76.00</td>\n",
       "      <td>2896679</td>\n",
       "    </tr>\n",
       "    <tr>\n",
       "      <th>2</th>\n",
       "      <td>Algeria</td>\n",
       "      <td>Middle East &amp; North Africa</td>\n",
       "      <td>13434</td>\n",
       "      <td>76.50</td>\n",
       "      <td>39666519</td>\n",
       "    </tr>\n",
       "    <tr>\n",
       "      <th>3</th>\n",
       "      <td>Andorra</td>\n",
       "      <td>Europe &amp; Central Asia</td>\n",
       "      <td>46577</td>\n",
       "      <td>84.10</td>\n",
       "      <td>70473</td>\n",
       "    </tr>\n",
       "    <tr>\n",
       "      <th>4</th>\n",
       "      <td>Angola</td>\n",
       "      <td>Sub-Saharan Africa</td>\n",
       "      <td>7615</td>\n",
       "      <td>61.00</td>\n",
       "      <td>25021974</td>\n",
       "    </tr>\n",
       "    <tr>\n",
       "      <th>...</th>\n",
       "      <td>...</td>\n",
       "      <td>...</td>\n",
       "      <td>...</td>\n",
       "      <td>...</td>\n",
       "      <td>...</td>\n",
       "    </tr>\n",
       "    <tr>\n",
       "      <th>182</th>\n",
       "      <td>Vietnam</td>\n",
       "      <td>South Asia</td>\n",
       "      <td>5623</td>\n",
       "      <td>76.50</td>\n",
       "      <td>93447601</td>\n",
       "    </tr>\n",
       "    <tr>\n",
       "      <th>183</th>\n",
       "      <td>Palestine</td>\n",
       "      <td>Middle East &amp; North Africa</td>\n",
       "      <td>4319</td>\n",
       "      <td>75.20</td>\n",
       "      <td>4668466</td>\n",
       "    </tr>\n",
       "    <tr>\n",
       "      <th>184</th>\n",
       "      <td>Yemen</td>\n",
       "      <td>Middle East &amp; North Africa</td>\n",
       "      <td>3887</td>\n",
       "      <td>67.60</td>\n",
       "      <td>26832215</td>\n",
       "    </tr>\n",
       "    <tr>\n",
       "      <th>185</th>\n",
       "      <td>Zambia</td>\n",
       "      <td>Sub-Saharan Africa</td>\n",
       "      <td>4034</td>\n",
       "      <td>58.96</td>\n",
       "      <td>16211767</td>\n",
       "    </tr>\n",
       "    <tr>\n",
       "      <th>186</th>\n",
       "      <td>Zimbabwe</td>\n",
       "      <td>Sub-Saharan Africa</td>\n",
       "      <td>1801</td>\n",
       "      <td>60.01</td>\n",
       "      <td>15602751</td>\n",
       "    </tr>\n",
       "  </tbody>\n",
       "</table>\n",
       "<p>187 rows × 5 columns</p>\n",
       "</div>"
      ],
      "text/plain": [
       "         country                      region  income  health  population\n",
       "0    Afghanistan       Europe & Central Asia    1925   57.63    32526562\n",
       "1        Albania       Europe & Central Asia   10620   76.00     2896679\n",
       "2        Algeria  Middle East & North Africa   13434   76.50    39666519\n",
       "3        Andorra       Europe & Central Asia   46577   84.10       70473\n",
       "4         Angola          Sub-Saharan Africa    7615   61.00    25021974\n",
       "..           ...                         ...     ...     ...         ...\n",
       "182      Vietnam                  South Asia    5623   76.50    93447601\n",
       "183    Palestine  Middle East & North Africa    4319   75.20     4668466\n",
       "184        Yemen  Middle East & North Africa    3887   67.60    26832215\n",
       "185       Zambia          Sub-Saharan Africa    4034   58.96    16211767\n",
       "186     Zimbabwe          Sub-Saharan Africa    1801   60.01    15602751\n",
       "\n",
       "[187 rows x 5 columns]"
      ]
     },
     "execution_count": 43,
     "metadata": {},
     "output_type": "execute_result"
    }
   ],
   "source": [
    "df"
   ]
  },
  {
   "cell_type": "code",
   "execution_count": 44,
   "id": "fb25041c",
   "metadata": {},
   "outputs": [
    {
     "name": "stdout",
     "output_type": "stream",
     "text": [
      "Help on function scatterplot in module seaborn.relational:\n",
      "\n",
      "scatterplot(data=None, *, x=None, y=None, hue=None, size=None, style=None, palette=None, hue_order=None, hue_norm=None, sizes=None, size_order=None, size_norm=None, markers=True, style_order=None, legend='auto', ax=None, **kwargs)\n",
      "    Draw a scatter plot with possibility of several semantic groupings.\n",
      "    \n",
      "    The relationship between `x` and `y` can be shown for different subsets\n",
      "    of the data using the `hue`, `size`, and `style` parameters. These\n",
      "    parameters control what visual semantics are used to identify the different\n",
      "    subsets. It is possible to show up to three dimensions independently by\n",
      "    using all three semantic types, but this style of plot can be hard to\n",
      "    interpret and is often ineffective. Using redundant semantics (i.e. both\n",
      "    `hue` and `style` for the same variable) can be helpful for making\n",
      "    graphics more accessible.\n",
      "    \n",
      "    See the :ref:`tutorial <relational_tutorial>` for more information.\n",
      "    \n",
      "    The default treatment of the `hue` (and to a lesser extent, `size`)\n",
      "    semantic, if present, depends on whether the variable is inferred to\n",
      "    represent \"numeric\" or \"categorical\" data. In particular, numeric variables\n",
      "    are represented with a sequential colormap by default, and the legend\n",
      "    entries show regular \"ticks\" with values that may or may not exist in the\n",
      "    data. This behavior can be controlled through various parameters, as\n",
      "    described and illustrated below.\n",
      "    \n",
      "    Parameters\n",
      "    ----------\n",
      "    data : :class:`pandas.DataFrame`, :class:`numpy.ndarray`, mapping, or sequence\n",
      "        Input data structure. Either a long-form collection of vectors that can be\n",
      "        assigned to named variables or a wide-form dataset that will be internally\n",
      "        reshaped.\n",
      "    x, y : vectors or keys in ``data``\n",
      "        Variables that specify positions on the x and y axes.\n",
      "    hue : vector or key in `data`\n",
      "        Grouping variable that will produce points with different colors.\n",
      "        Can be either categorical or numeric, although color mapping will\n",
      "        behave differently in latter case.\n",
      "    size : vector or key in `data`\n",
      "        Grouping variable that will produce points with different sizes.\n",
      "        Can be either categorical or numeric, although size mapping will\n",
      "        behave differently in latter case.\n",
      "    style : vector or key in `data`\n",
      "        Grouping variable that will produce points with different markers.\n",
      "        Can have a numeric dtype but will always be treated as categorical.\n",
      "    palette : string, list, dict, or :class:`matplotlib.colors.Colormap`\n",
      "        Method for choosing the colors to use when mapping the ``hue`` semantic.\n",
      "        String values are passed to :func:`color_palette`. List or dict values\n",
      "        imply categorical mapping, while a colormap object implies numeric mapping.\n",
      "    hue_order : vector of strings\n",
      "        Specify the order of processing and plotting for categorical levels of the\n",
      "        ``hue`` semantic.\n",
      "    hue_norm : tuple or :class:`matplotlib.colors.Normalize`\n",
      "        Either a pair of values that set the normalization range in data units\n",
      "        or an object that will map from data units into a [0, 1] interval. Usage\n",
      "        implies numeric mapping.\n",
      "    sizes : list, dict, or tuple\n",
      "        An object that determines how sizes are chosen when `size` is used.\n",
      "        List or dict arguments should provide a size for each unique data value,\n",
      "        which forces a categorical interpretation. The argument may also be a\n",
      "        min, max tuple.\n",
      "    size_order : list\n",
      "        Specified order for appearance of the `size` variable levels,\n",
      "        otherwise they are determined from the data. Not relevant when the\n",
      "        `size` variable is numeric.\n",
      "    size_norm : tuple or Normalize object\n",
      "        Normalization in data units for scaling plot objects when the\n",
      "        `size` variable is numeric.\n",
      "    markers : boolean, list, or dictionary\n",
      "        Object determining how to draw the markers for different levels of the\n",
      "        `style` variable. Setting to `True` will use default markers, or\n",
      "        you can pass a list of markers or a dictionary mapping levels of the\n",
      "        `style` variable to markers. Setting to `False` will draw\n",
      "        marker-less lines.  Markers are specified as in matplotlib.\n",
      "    style_order : list\n",
      "        Specified order for appearance of the `style` variable levels\n",
      "        otherwise they are determined from the data. Not relevant when the\n",
      "        `style` variable is numeric.\n",
      "    legend : \"auto\", \"brief\", \"full\", or False\n",
      "        How to draw the legend. If \"brief\", numeric `hue` and `size`\n",
      "        variables will be represented with a sample of evenly spaced values.\n",
      "        If \"full\", every group will get an entry in the legend. If \"auto\",\n",
      "        choose between brief or full representation based on number of levels.\n",
      "        If `False`, no legend data is added and no legend is drawn.\n",
      "    ax : :class:`matplotlib.axes.Axes`\n",
      "        Pre-existing axes for the plot. Otherwise, call :func:`matplotlib.pyplot.gca`\n",
      "        internally.\n",
      "    kwargs : key, value mappings\n",
      "        Other keyword arguments are passed down to\n",
      "        :meth:`matplotlib.axes.Axes.scatter`.\n",
      "    \n",
      "    Returns\n",
      "    -------\n",
      "    :class:`matplotlib.axes.Axes`\n",
      "        The matplotlib axes containing the plot.\n",
      "    \n",
      "    See Also\n",
      "    --------\n",
      "    lineplot : Plot data using lines.\n",
      "    stripplot : Plot a categorical scatter with jitter.\n",
      "    swarmplot : Plot a categorical scatter with non-overlapping points.\n",
      "    \n",
      "    Examples\n",
      "    --------\n",
      "    \n",
      "    .. include:: ../docstrings/scatterplot.rst\n",
      "\n"
     ]
    }
   ],
   "source": [
    "help(sns.scatterplot)"
   ]
  },
  {
   "cell_type": "code",
   "execution_count": 52,
   "id": "f8b9e0bd",
   "metadata": {},
   "outputs": [
    {
     "data": {
      "text/plain": [
       "<AxesSubplot: xlabel='income', ylabel='health'>"
      ]
     },
     "execution_count": 52,
     "metadata": {},
     "output_type": "execute_result"
    },
    {
     "data": {
      "image/png": "[encoded data removed]",
      "text/plain": [
       "<Figure size 640x480 with 1 Axes>"
      ]
     },
     "metadata": {},
     "output_type": "display_data"
    }
   ],
   "source": [
    "sns.scatterplot(df, x='income', y='health', size='population', hue='region', \n",
    "                legend=None, sizes=(10,500), alpha=0.4)"
   ]
  },
  {
   "cell_type": "code",
   "execution_count": 53,
   "id": "b6b346e9",
   "metadata": {},
   "outputs": [],
   "source": [
    "import plotly.express as px"
   ]
  },
  {
   "cell_type": "code",
   "execution_count": 55,
   "id": "c13145eb",
   "metadata": {},
   "outputs": [
    {
     "data": {
      "application/vnd.plotly.v1+json": {
       "config": {
        "plotlyServerURL": "https://plot.ly"
       },
       "data": [
        {
         "hovertemplate": "region=Europe & Central Asia<br>income=%{x}<br>health=%{y}<br>population=%{marker.size}<extra></extra>",
         "legendgroup": "Europe & Central Asia",
         "marker": {
          "color": "#636efa",
          "size": [
           32526562,
           2896679,
           70473,
           3017712,
           8544586,
           9753968,
           9495826,
           11299192,
           3810416,
           7149787,
           4240317,
           1165300,
           10543186,
           5669081,
           1312558,
           5503457,
           64395345,
           3999812,
           80688545,
           10954617,
           9855023,
           329425,
           4688465,
           59797685,
           17625226,
           5939962,
           1970503,
           2878405,
           567110,
           2078453,
           4068897,
           625781,
           16924929,
           5210967,
           38611794,
           10349803,
           19511324,
           143456918,
           8850975,
           5426258,
           2067526,
           46121699,
           9779426,
           8298663,
           8481855,
           5373502,
           44823765,
           64715810,
           29893488
          ],
          "sizemode": "area",
          "sizeref": 3440122.3575,
          "symbol": "circle"
         },
         "mode": "markers",
         "name": "Europe & Central Asia",
         "orientation": "v",
         "showlegend": true,
         "type": "scatter",
         "x": [
          1925,
          10620,
          46577,
          7763,
          44401,
          16986,
          17415,
          41240,
          9833,
          16371,
          20260,
          29797,
          29437,
          43495,
          26812,
          38923,
          37599,
          7474,
          44053,
          25430,
          24200,
          42182,
          47758,
          33297,
          23468,
          3245,
          23282,
          26665,
          88314,
          12547,
          4896,
          14833,
          45784,
          64304,
          24787,
          26437,
          19203,
          23038,
          12908,
          27204,
          28550,
          32979,
          44892,
          56118,
          2582,
          15865,
          8449,
          38225,
          5598
         ],
         "xaxis": "x",
         "y": [
          57.63,
          76,
          84.1,
          74.4,
          81,
          72.9,
          70.4,
          80.4,
          77.9,
          74.9,
          78,
          82.6,
          78.6,
          80.1,
          76.8,
          80.8,
          81.9,
          73.3,
          81.1,
          79.8,
          76.2,
          82.8,
          80.4,
          82.1,
          68.2,
          69,
          75.7,
          75.4,
          81.1,
          77,
          72.7,
          75.8,
          80.6,
          81.6,
          77.3,
          79.8,
          76.8,
          73.13,
          78.1,
          76.4,
          80.2,
          81.7,
          82,
          82.9,
          71,
          67.9,
          72.1,
          81.4,
          70.1
         ],
         "yaxis": "y"
        },
        {
         "hovertemplate": "region=Middle East & North Africa<br>income=%{x}<br>health=%{y}<br>population=%{marker.size}<extra></extra>",
         "legendgroup": "Middle East & North Africa",
         "marker": {
          "color": "#EF553B",
          "size": [
           39666519,
           1377237,
           887861,
           91508084,
           79109272,
           36423395,
           8064036,
           7594547,
           3892115,
           5850743,
           6278438,
           418670,
           34377511,
           4490541,
           2235355,
           31540372,
           18502413,
           11253554,
           78665830,
           9156963,
           4668466,
           26832215
          ],
          "sizemode": "area",
          "sizeref": 3440122.3575,
          "symbol": "circle"
         },
         "mode": "markers",
         "name": "Middle East & North Africa",
         "orientation": "v",
         "showlegend": true,
         "type": "scatter",
         "x": [
          13434,
          44138,
          3139,
          11031,
          15573,
          14646,
          31590,
          11752,
          82633,
          17050,
          17261,
          30265,
          7319,
          48226,
          132877,
          52469,
          4637,
          11126,
          19360,
          60749,
          4319,
          3887
         ],
         "xaxis": "x",
         "y": [
          76.5,
          79.2,
          64.63,
          71.3,
          78.5,
          72.1,
          82.4,
          78.3,
          80.7,
          78.5,
          76.2,
          82.1,
          74.7,
          75.7,
          82,
          78.1,
          70.26,
          77.3,
          76.5,
          76.6,
          75.2,
          67.6
         ],
         "yaxis": "y"
        },
        {
         "hovertemplate": "region=Sub-Saharan Africa<br>income=%{x}<br>health=%{y}<br>population=%{marker.size}<extra></extra>",
         "legendgroup": "Sub-Saharan Africa",
         "marker": {
          "color": "#00cc96",
          "size": [
           25021974,
           10879829,
           2262485,
           18105570,
           11178921,
           23344179,
           520502,
           4900274,
           14037472,
           788474,
           77266814,
           4620330,
           22701556,
           845060,
           5227791,
           99390750,
           1725292,
           1990924,
           27409893,
           12608590,
           1844325,
           46050302,
           2135022,
           4503438,
           24235390,
           17215232,
           17599694,
           4067564,
           1273212,
           27977863,
           2458830,
           19899120,
           182201962,
           11609666,
           190344,
           15129273,
           96471,
           6453184,
           10787104,
           54490406,
           12339812,
           40234882,
           1286970,
           53470420,
           7304578,
           39032383,
           16211767,
           15602751
          ],
          "sizemode": "area",
          "sizeref": 3440122.3575,
          "symbol": "circle"
         },
         "mode": "markers",
         "name": "Sub-Saharan Africa",
         "orientation": "v",
         "showlegend": true,
         "type": "scatter",
         "x": [
          7615,
          1830,
          17196,
          1654,
          777,
          2897,
          6514,
          599,
          2191,
          1472,
          809,
          6220,
          3491,
          31087,
          1129,
          1520,
          18627,
          1644,
          4099,
          1225,
          1386,
          2898,
          2598,
          958,
          1400,
          799,
          1684,
          3877,
          18350,
          1176,
          10040,
          943,
          5727,
          1549,
          3003,
          2251,
          25684,
          2085,
          624,
          12509,
          3047,
          3975,
          6095,
          2571,
          1433,
          1680,
          4034,
          1801
         ],
         "xaxis": "x",
         "y": [
          61,
          65.5,
          66.4,
          62.8,
          60.4,
          59.5,
          74.6,
          53.8,
          57.7,
          64.1,
          58.3,
          61.9,
          60.33,
          60.63,
          62.9,
          63.6,
          60.53,
          65.1,
          65.5,
          60.8,
          53.4,
          66.63,
          48.5,
          63.9,
          64.7,
          60.22,
          57.6,
          65.7,
          73.9,
          56.4,
          61,
          62.2,
          61.33,
          66.53,
          68.8,
          66.1,
          73.7,
          58.5,
          58.7,
          63.72,
          58,
          69.5,
          51.5,
          63.43,
          64.23,
          60.8,
          58.96,
          60.01
         ],
         "yaxis": "y"
        },
        {
         "hovertemplate": "region=Latin America & Caribbean<br>income=%{x}<br>health=%{y}<br>population=%{marker.size}<extra></extra>",
         "legendgroup": "Latin America & Caribbean",
         "marker": {
          "color": "#ab63fa",
          "size": [
           91818,
           43416755,
           388019,
           284215,
           359287,
           10724705,
           207847528,
           17948141,
           48228704,
           4807850,
           11389562,
           72680,
           10528391,
           16144363,
           6126583,
           106825,
           16342897,
           767085,
           10711067,
           8075060,
           2793335,
           127017224,
           6082032,
           3929141,
           6639123,
           31376670,
           184999,
           109462,
           542975,
           1360088,
           3431555,
           31108083
          ],
          "sizemode": "area",
          "sizeref": 3440122.3575,
          "symbol": "circle"
         },
         "mode": "markers",
         "name": "Latin America & Caribbean",
         "orientation": "v",
         "showlegend": true,
         "type": "scatter",
         "x": [
          21049,
          17344,
          22818,
          12984,
          8501,
          6295,
          15441,
          22465,
          12761,
          14132,
          21291,
          10503,
          12837,
          10996,
          7776,
          11593,
          7279,
          6816,
          1710,
          4270,
          8606,
          16850,
          4712,
          20485,
          8219,
          11903,
          9997,
          10435,
          17125,
          30113,
          20438,
          15753
         ],
         "xaxis": "x",
         "y": [
          75.2,
          76.2,
          72.3,
          75.8,
          70,
          72.3,
          75.6,
          79.3,
          75.8,
          80,
          78.5,
          74.6,
          73.8,
          75.2,
          74.1,
          71.7,
          73.1,
          64.4,
          65.3,
          72.4,
          75.5,
          74.5,
          76.8,
          78.2,
          73.9,
          77.5,
          74.5,
          72.9,
          70.5,
          71.4,
          77.3,
          75.8
         ],
         "yaxis": "y"
        },
        {
         "hovertemplate": "region=East Asia & Pacific<br>income=%{x}<br>health=%{y}<br>population=%{marker.size}<extra></extra>",
         "legendgroup": "East Asia & Pacific",
         "marker": {
          "color": "#FFA15A",
          "size": [
           23968973,
           423188,
           15577899,
           1376048943,
           892145,
           257563815,
           126573481,
           112423,
           6802023,
           30331007,
           52993,
           104460,
           2959134,
           53897154,
           4528526,
           25155317,
           7619321,
           100699395,
           193228,
           5603740,
           583591,
           106170,
           264652
          ],
          "sizemode": "area",
          "sizeref": 3440122.3575,
          "symbol": "circle"
         },
         "mode": "markers",
         "name": "East Asia & Pacific",
         "orientation": "v",
         "showlegend": true,
         "type": "scatter",
         "x": [
          44056,
          73003,
          3267,
          13334,
          7925,
          10504,
          36162,
          1824,
          5212,
          24320,
          3661,
          3510,
          11819,
          4012,
          34186,
          1390,
          2529,
          6876,
          5558,
          80794,
          2047,
          5069,
          2912
         ],
         "xaxis": "x",
         "y": [
          81.8,
          78.7,
          68.4,
          76.9,
          66.3,
          70.9,
          83.5,
          62.4,
          66.4,
          75.1,
          65.1,
          67,
          65.3,
          67.9,
          80.6,
          71.4,
          60.6,
          70.2,
          72.2,
          82.1,
          64.1,
          70.5,
          65
         ],
         "yaxis": "y"
        },
        {
         "hovertemplate": "region=South Asia<br>income=%{x}<br>health=%{y}<br>population=%{marker.size}<extra></extra>",
         "legendgroup": "South Asia",
         "marker": {
          "color": "#19d3f3",
          "size": [
           160995642,
           774830,
           1311050527,
           363657,
           28513700,
           188924874,
           50293439,
           20715010,
           67959359,
           1184765,
           93447601
          ],
          "sizemode": "area",
          "sizeref": 3440122.3575,
          "symbol": "circle"
         },
         "mode": "markers",
         "name": "South Asia",
         "orientation": "v",
         "showlegend": true,
         "type": "scatter",
         "x": [
          3161,
          7983,
          5903,
          14408,
          2352,
          4743,
          34644,
          10624,
          14512,
          2086,
          5623
         ],
         "xaxis": "x",
         "y": [
          70.1,
          70.2,
          66.8,
          79.5,
          71.2,
          66.5,
          80.7,
          76.5,
          75.1,
          72.4,
          76.5
         ],
         "yaxis": "y"
        },
        {
         "hovertemplate": "region=North America<br>income=%{x}<br>health=%{y}<br>population=%{marker.size}<extra></extra>",
         "legendgroup": "North America",
         "marker": {
          "color": "#FF6692",
          "size": [
           35939927,
           321773631
          ],
          "sizemode": "area",
          "sizeref": 3440122.3575,
          "symbol": "circle"
         },
         "mode": "markers",
         "name": "North America",
         "orientation": "v",
         "showlegend": true,
         "type": "scatter",
         "x": [
          43294,
          53354
         ],
         "xaxis": "x",
         "y": [
          81.7,
          79.1
         ],
         "yaxis": "y"
        }
       ],
       "layout": {
        "legend": {
         "itemsizing": "constant",
         "title": {
          "text": "region"
         },
         "tracegroupgap": 0
        },
        "margin": {
         "t": 60
        },
        "template": {
         "data": {
          "bar": [
           {
            "error_x": {
             "color": "#2a3f5f"
            },
            "error_y": {
             "color": "#2a3f5f"
            },
            "marker": {
             "line": {
              "color": "#E5ECF6",
              "width": 0.5
             },
             "pattern": {
              "fillmode": "overlay",
              "size": 10,
              "solidity": 0.2
             }
            },
            "type": "bar"
           }
          ],
          "barpolar": [
           {
            "marker": {
             "line": {
              "color": "#E5ECF6",
              "width": 0.5
             },
             "pattern": {
              "fillmode": "overlay",
              "size": 10,
              "solidity": 0.2
             }
            },
            "type": "barpolar"
           }
          ],
          "carpet": [
           {
            "aaxis": {
             "endlinecolor": "#2a3f5f",
             "gridcolor": "white",
             "linecolor": "white",
             "minorgridcolor": "white",
             "startlinecolor": "#2a3f5f"
            },
            "baxis": {
             "endlinecolor": "#2a3f5f",
             "gridcolor": "white",
             "linecolor": "white",
             "minorgridcolor": "white",
             "startlinecolor": "#2a3f5f"
            },
            "type": "carpet"
           }
          ],
          "choropleth": [
           {
            "colorbar": {
             "outlinewidth": 0,
             "ticks": ""
            },
            "type": "choropleth"
           }
          ],
          "contour": [
           {
            "colorbar": {
             "outlinewidth": 0,
             "ticks": ""
            },
            "colorscale": [
             [
              0,
              "#0d0887"
             ],
             [
              0.1111111111111111,
              "#46039f"
             ],
             [
              0.2222222222222222,
              "#7201a8"
             ],
             [
              0.3333333333333333,
              "#9c179e"
             ],
             [
              0.4444444444444444,
              "#bd3786"
             ],
             [
              0.5555555555555556,
              "#d8576b"
             ],
             [
              0.6666666666666666,
              "#ed7953"
             ],
             [
              0.7777777777777778,
              "#fb9f3a"
             ],
             [
              0.8888888888888888,
              "#fdca26"
             ],
             [
              1,
              "#f0f921"
             ]
            ],
            "type": "contour"
           }
          ],
          "contourcarpet": [
           {
            "colorbar": {
             "outlinewidth": 0,
             "ticks": ""
            },
            "type": "contourcarpet"
           }
          ],
          "heatmap": [
           {
            "colorbar": {
             "outlinewidth": 0,
             "ticks": ""
            },
            "colorscale": [
             [
              0,
              "#0d0887"
             ],
             [
              0.1111111111111111,
              "#46039f"
             ],
             [
              0.2222222222222222,
              "#7201a8"
             ],
             [
              0.3333333333333333,
              "#9c179e"
             ],
             [
              0.4444444444444444,
              "#bd3786"
             ],
             [
              0.5555555555555556,
              "#d8576b"
             ],
             [
              0.6666666666666666,
              "#ed7953"
             ],
             [
              0.7777777777777778,
              "#fb9f3a"
             ],
             [
              0.8888888888888888,
              "#fdca26"
             ],
             [
              1,
              "#f0f921"
             ]
            ],
            "type": "heatmap"
           }
          ],
          "heatmapgl": [
           {
            "colorbar": {
             "outlinewidth": 0,
             "ticks": ""
            },
            "colorscale": [
             [
              0,
              "#0d0887"
             ],
             [
              0.1111111111111111,
              "#46039f"
             ],
             [
              0.2222222222222222,
              "#7201a8"
             ],
             [
              0.3333333333333333,
              "#9c179e"
             ],
             [
              0.4444444444444444,
              "#bd3786"
             ],
             [
              0.5555555555555556,
              "#d8576b"
             ],
             [
              0.6666666666666666,
              "#ed7953"
             ],
             [
              0.7777777777777778,
              "#fb9f3a"
             ],
             [
              0.8888888888888888,
              "#fdca26"
             ],
             [
              1,
              "#f0f921"
             ]
            ],
            "type": "heatmapgl"
           }
          ],
          "histogram": [
           {
            "marker": {
             "pattern": {
              "fillmode": "overlay",
              "size": 10,
              "solidity": 0.2
             }
            },
            "type": "histogram"
           }
          ],
          "histogram2d": [
           {
            "colorbar": {
             "outlinewidth": 0,
             "ticks": ""
            },
            "colorscale": [
             [
              0,
              "#0d0887"
             ],
             [
              0.1111111111111111,
              "#46039f"
             ],
             [
              0.2222222222222222,
              "#7201a8"
             ],
             [
              0.3333333333333333,
              "#9c179e"
             ],
             [
              0.4444444444444444,
              "#bd3786"
             ],
             [
              0.5555555555555556,
              "#d8576b"
             ],
             [
              0.6666666666666666,
              "#ed7953"
             ],
             [
              0.7777777777777778,
              "#fb9f3a"
             ],
             [
              0.8888888888888888,
              "#fdca26"
             ],
             [
              1,
              "#f0f921"
             ]
            ],
            "type": "histogram2d"
           }
          ],
          "histogram2dcontour": [
           {
            "colorbar": {
             "outlinewidth": 0,
             "ticks": ""
            },
            "colorscale": [
             [
              0,
              "#0d0887"
             ],
             [
              0.1111111111111111,
              "#46039f"
             ],
             [
              0.2222222222222222,
              "#7201a8"
             ],
             [
              0.3333333333333333,
              "#9c179e"
             ],
             [
              0.4444444444444444,
              "#bd3786"
             ],
             [
              0.5555555555555556,
              "#d8576b"
             ],
             [
              0.6666666666666666,
              "#ed7953"
             ],
             [
              0.7777777777777778,
              "#fb9f3a"
             ],
             [
              0.8888888888888888,
              "#fdca26"
             ],
             [
              1,
              "#f0f921"
             ]
            ],
            "type": "histogram2dcontour"
           }
          ],
          "mesh3d": [
           {
            "colorbar": {
             "outlinewidth": 0,
             "ticks": ""
            },
            "type": "mesh3d"
           }
          ],
          "parcoords": [
           {
            "line": {
             "colorbar": {
              "outlinewidth": 0,
              "ticks": ""
             }
            },
            "type": "parcoords"
           }
          ],
          "pie": [
           {
            "automargin": true,
            "type": "pie"
           }
          ],
          "scatter": [
           {
            "fillpattern": {
             "fillmode": "overlay",
             "size": 10,
             "solidity": 0.2
            },
            "type": "scatter"
           }
          ],
          "scatter3d": [
           {
            "line": {
             "colorbar": {
              "outlinewidth": 0,
              "ticks": ""
             }
            },
            "marker": {
             "colorbar": {
              "outlinewidth": 0,
              "ticks": ""
             }
            },
            "type": "scatter3d"
           }
          ],
          "scattercarpet": [
           {
            "marker": {
             "colorbar": {
              "outlinewidth": 0,
              "ticks": ""
             }
            },
            "type": "scattercarpet"
           }
          ],
          "scattergeo": [
           {
            "marker": {
             "colorbar": {
              "outlinewidth": 0,
              "ticks": ""
             }
            },
            "type": "scattergeo"
           }
          ],
          "scattergl": [
           {
            "marker": {
             "colorbar": {
              "outlinewidth": 0,
              "ticks": ""
             }
            },
            "type": "scattergl"
           }
          ],
          "scattermapbox": [
           {
            "marker": {
             "colorbar": {
              "outlinewidth": 0,
              "ticks": ""
             }
            },
            "type": "scattermapbox"
           }
          ],
          "scatterpolar": [
           {
            "marker": {
             "colorbar": {
              "outlinewidth": 0,
              "ticks": ""
             }
            },
            "type": "scatterpolar"
           }
          ],
          "scatterpolargl": [
           {
            "marker": {
             "colorbar": {
              "outlinewidth": 0,
              "ticks": ""
             }
            },
            "type": "scatterpolargl"
           }
          ],
          "scatterternary": [
           {
            "marker": {
             "colorbar": {
              "outlinewidth": 0,
              "ticks": ""
             }
            },
            "type": "scatterternary"
           }
          ],
          "surface": [
           {
            "colorbar": {
             "outlinewidth": 0,
             "ticks": ""
            },
            "colorscale": [
             [
              0,
              "#0d0887"
             ],
             [
              0.1111111111111111,
              "#46039f"
             ],
             [
              0.2222222222222222,
              "#7201a8"
             ],
             [
              0.3333333333333333,
              "#9c179e"
             ],
             [
              0.4444444444444444,
              "#bd3786"
             ],
             [
              0.5555555555555556,
              "#d8576b"
             ],
             [
              0.6666666666666666,
              "#ed7953"
             ],
             [
              0.7777777777777778,
              "#fb9f3a"
             ],
             [
              0.8888888888888888,
              "#fdca26"
             ],
             [
              1,
              "#f0f921"
             ]
            ],
            "type": "surface"
           }
          ],
          "table": [
           {
            "cells": {
             "fill": {
              "color": "#EBF0F8"
             },
             "line": {
              "color": "white"
             }
            },
            "header": {
             "fill": {
              "color": "#C8D4E3"
             },
             "line": {
              "color": "white"
             }
            },
            "type": "table"
           }
          ]
         },
         "layout": {
          "annotationdefaults": {
           "arrowcolor": "#2a3f5f",
           "arrowhead": 0,
           "arrowwidth": 1
          },
          "autotypenumbers": "strict",
          "coloraxis": {
           "colorbar": {
            "outlinewidth": 0,
            "ticks": ""
           }
          },
          "colorscale": {
           "diverging": [
            [
             0,
             "#8e0152"
            ],
            [
             0.1,
             "#c51b7d"
            ],
            [
             0.2,
             "#de77ae"
            ],
            [
             0.3,
             "#f1b6da"
            ],
            [
             0.4,
             "#fde0ef"
            ],
            [
             0.5,
             "#f7f7f7"
            ],
            [
             0.6,
             "#e6f5d0"
            ],
            [
             0.7,
             "#b8e186"
            ],
            [
             0.8,
             "#7fbc41"
            ],
            [
             0.9,
             "#4d9221"
            ],
            [
             1,
             "#276419"
            ]
           ],
           "sequential": [
            [
             0,
             "#0d0887"
            ],
            [
             0.1111111111111111,
             "#46039f"
            ],
            [
             0.2222222222222222,
             "#7201a8"
            ],
            [
             0.3333333333333333,
             "#9c179e"
            ],
            [
             0.4444444444444444,
             "#bd3786"
            ],
            [
             0.5555555555555556,
             "#d8576b"
            ],
            [
             0.6666666666666666,
             "#ed7953"
            ],
            [
             0.7777777777777778,
             "#fb9f3a"
            ],
            [
             0.8888888888888888,
             "#fdca26"
            ],
            [
             1,
             "#f0f921"
            ]
           ],
           "sequentialminus": [
            [
             0,
             "#0d0887"
            ],
            [
             0.1111111111111111,
             "#46039f"
            ],
            [
             0.2222222222222222,
             "#7201a8"
            ],
            [
             0.3333333333333333,
             "#9c179e"
            ],
            [
             0.4444444444444444,
             "#bd3786"
            ],
            [
             0.5555555555555556,
             "#d8576b"
            ],
            [
             0.6666666666666666,
             "#ed7953"
            ],
            [
             0.7777777777777778,
             "#fb9f3a"
            ],
            [
             0.8888888888888888,
             "#fdca26"
            ],
            [
             1,
             "#f0f921"
            ]
           ]
          },
          "colorway": [
           "#636efa",
           "#EF553B",
           "#00cc96",
           "#ab63fa",
           "#FFA15A",
           "#19d3f3",
           "#FF6692",
           "#B6E880",
           "#FF97FF",
           "#FECB52"
          ],
          "font": {
           "color": "#2a3f5f"
          },
          "geo": {
           "bgcolor": "white",
           "lakecolor": "white",
           "landcolor": "#E5ECF6",
           "showlakes": true,
           "showland": true,
           "subunitcolor": "white"
          },
          "hoverlabel": {
           "align": "left"
          },
          "hovermode": "closest",
          "mapbox": {
           "style": "light"
          },
          "paper_bgcolor": "white",
          "plot_bgcolor": "#E5ECF6",
          "polar": {
           "angularaxis": {
            "gridcolor": "white",
            "linecolor": "white",
            "ticks": ""
           },
           "bgcolor": "#E5ECF6",
           "radialaxis": {
            "gridcolor": "white",
            "linecolor": "white",
            "ticks": ""
           }
          },
          "scene": {
           "xaxis": {
            "backgroundcolor": "#E5ECF6",
            "gridcolor": "white",
            "gridwidth": 2,
            "linecolor": "white",
            "showbackground": true,
            "ticks": "",
            "zerolinecolor": "white"
           },
           "yaxis": {
            "backgroundcolor": "#E5ECF6",
            "gridcolor": "white",
            "gridwidth": 2,
            "linecolor": "white",
            "showbackground": true,
            "ticks": "",
            "zerolinecolor": "white"
           },
           "zaxis": {
            "backgroundcolor": "#E5ECF6",
            "gridcolor": "white",
            "gridwidth": 2,
            "linecolor": "white",
            "showbackground": true,
            "ticks": "",
            "zerolinecolor": "white"
           }
          },
          "shapedefaults": {
           "line": {
            "color": "#2a3f5f"
           }
          },
          "ternary": {
           "aaxis": {
            "gridcolor": "white",
            "linecolor": "white",
            "ticks": ""
           },
           "baxis": {
            "gridcolor": "white",
            "linecolor": "white",
            "ticks": ""
           },
           "bgcolor": "#E5ECF6",
           "caxis": {
            "gridcolor": "white",
            "linecolor": "white",
            "ticks": ""
           }
          },
          "title": {
           "x": 0.05
          },
          "xaxis": {
           "automargin": true,
           "gridcolor": "white",
           "linecolor": "white",
           "ticks": "",
           "title": {
            "standoff": 15
           },
           "zerolinecolor": "white",
           "zerolinewidth": 2
          },
          "yaxis": {
           "automargin": true,
           "gridcolor": "white",
           "linecolor": "white",
           "ticks": "",
           "title": {
            "standoff": 15
           },
           "zerolinecolor": "white",
           "zerolinewidth": 2
          }
         }
        },
        "xaxis": {
         "anchor": "y",
         "domain": [
          0,
          1
         ],
         "title": {
          "text": "income"
         }
        },
        "yaxis": {
         "anchor": "x",
         "domain": [
          0,
          1
         ],
         "title": {
          "text": "health"
         }
        }
       }
      },
      "text/html": [
       "<div>                            <div id=\"7fa64ace-55e6-4f39-a441-e7e6b32b3e71\" class=\"plotly-graph-div\" style=\"height:525px; width:100%;\"></div>            <script type=\"text/javascript\">                require([\"plotly\"], function(Plotly) {                    window.PLOTLYENV=window.PLOTLYENV || {};                                    if (document.getElementById(\"7fa64ace-55e6-4f39-a441-e7e6b32b3e71\")) {                    Plotly.newPlot(                        \"7fa64ace-55e6-4f39-a441-e7e6b32b3e71\",                        [{\"hovertemplate\":\"region=Europe & Central Asia<br>income=%{x}<br>health=%{y}<br>population=%{marker.size}<extra></extra>\",\"legendgroup\":\"Europe & Central Asia\",\"marker\":{\"color\":\"#636efa\",\"size\":[32526562,2896679,70473,3017712,8544586,9753968,9495826,11299192,3810416,7149787,4240317,1165300,10543186,5669081,1312558,5503457,64395345,3999812,80688545,10954617,9855023,329425,4688465,59797685,17625226,5939962,1970503,2878405,567110,2078453,4068897,625781,16924929,5210967,38611794,10349803,19511324,143456918,8850975,5426258,2067526,46121699,9779426,8298663,8481855,5373502,44823765,64715810,29893488],\"sizemode\":\"area\",\"sizeref\":3440122.3575,\"symbol\":\"circle\"},\"mode\":\"markers\",\"name\":\"Europe & Central Asia\",\"orientation\":\"v\",\"showlegend\":true,\"x\":[1925,10620,46577,7763,44401,16986,17415,41240,9833,16371,20260,29797,29437,43495,26812,38923,37599,7474,44053,25430,24200,42182,47758,33297,23468,3245,23282,26665,88314,12547,4896,14833,45784,64304,24787,26437,19203,23038,12908,27204,28550,32979,44892,56118,2582,15865,8449,38225,5598],\"xaxis\":\"x\",\"y\":[57.63,76.0,84.1,74.4,81.0,72.9,70.4,80.4,77.9,74.9,78.0,82.6,78.6,80.1,76.8,80.8,81.9,73.3,81.1,79.8,76.2,82.8,80.4,82.1,68.2,69.0,75.7,75.4,81.1,77.0,72.7,75.8,80.6,81.6,77.3,79.8,76.8,73.13,78.1,76.4,80.2,81.7,82.0,82.9,71.0,67.9,72.1,81.4,70.1],\"yaxis\":\"y\",\"type\":\"scatter\"},{\"hovertemplate\":\"region=Middle East & North Africa<br>income=%{x}<br>health=%{y}<br>population=%{marker.size}<extra></extra>\",\"legendgroup\":\"Middle East & North Africa\",\"marker\":{\"color\":\"#EF553B\",\"size\":[39666519,1377237,887861,91508084,79109272,36423395,8064036,7594547,3892115,5850743,6278438,418670,34377511,4490541,2235355,31540372,18502413,11253554,78665830,9156963,4668466,26832215],\"sizemode\":\"area\",\"sizeref\":3440122.3575,\"symbol\":\"circle\"},\"mode\":\"markers\",\"name\":\"Middle East & North Africa\",\"orientation\":\"v\",\"showlegend\":true,\"x\":[13434,44138,3139,11031,15573,14646,31590,11752,82633,17050,17261,30265,7319,48226,132877,52469,4637,11126,19360,60749,4319,3887],\"xaxis\":\"x\",\"y\":[76.5,79.2,64.63,71.3,78.5,72.1,82.4,78.3,80.7,78.5,76.2,82.1,74.7,75.7,82.0,78.1,70.26,77.3,76.5,76.6,75.2,67.6],\"yaxis\":\"y\",\"type\":\"scatter\"},{\"hovertemplate\":\"region=Sub-Saharan Africa<br>income=%{x}<br>health=%{y}<br>population=%{marker.size}<extra></extra>\",\"legendgroup\":\"Sub-Saharan Africa\",\"marker\":{\"color\":\"#00cc96\",\"size\":[25021974,10879829,2262485,18105570,11178921,23344179,520502,4900274,14037472,788474,77266814,4620330,22701556,845060,5227791,99390750,1725292,1990924,27409893,12608590,1844325,46050302,2135022,4503438,24235390,17215232,17599694,4067564,1273212,27977863,2458830,19899120,182201962,11609666,190344,15129273,96471,6453184,10787104,54490406,12339812,40234882,1286970,53470420,7304578,39032383,16211767,15602751],\"sizemode\":\"area\",\"sizeref\":3440122.3575,\"symbol\":\"circle\"},\"mode\":\"markers\",\"name\":\"Sub-Saharan Africa\",\"orientation\":\"v\",\"showlegend\":true,\"x\":[7615,1830,17196,1654,777,2897,6514,599,2191,1472,809,6220,3491,31087,1129,1520,18627,1644,4099,1225,1386,2898,2598,958,1400,799,1684,3877,18350,1176,10040,943,5727,1549,3003,2251,25684,2085,624,12509,3047,3975,6095,2571,1433,1680,4034,1801],\"xaxis\":\"x\",\"y\":[61.0,65.5,66.4,62.8,60.4,59.5,74.6,53.8,57.7,64.1,58.3,61.9,60.33,60.63,62.9,63.6,60.53,65.1,65.5,60.8,53.4,66.63,48.5,63.9,64.7,60.22,57.6,65.7,73.9,56.4,61.0,62.2,61.33,66.53,68.8,66.1,73.7,58.5,58.7,63.72,58.0,69.5,51.5,63.43,64.23,60.8,58.96,60.01],\"yaxis\":\"y\",\"type\":\"scatter\"},{\"hovertemplate\":\"region=Latin America & Caribbean<br>income=%{x}<br>health=%{y}<br>population=%{marker.size}<extra></extra>\",\"legendgroup\":\"Latin America & Caribbean\",\"marker\":{\"color\":\"#ab63fa\",\"size\":[91818,43416755,388019,284215,359287,10724705,207847528,17948141,48228704,4807850,11389562,72680,10528391,16144363,6126583,106825,16342897,767085,10711067,8075060,2793335,127017224,6082032,3929141,6639123,31376670,184999,109462,542975,1360088,3431555,31108083],\"sizemode\":\"area\",\"sizeref\":3440122.3575,\"symbol\":\"circle\"},\"mode\":\"markers\",\"name\":\"Latin America & Caribbean\",\"orientation\":\"v\",\"showlegend\":true,\"x\":[21049,17344,22818,12984,8501,6295,15441,22465,12761,14132,21291,10503,12837,10996,7776,11593,7279,6816,1710,4270,8606,16850,4712,20485,8219,11903,9997,10435,17125,30113,20438,15753],\"xaxis\":\"x\",\"y\":[75.2,76.2,72.3,75.8,70.0,72.3,75.6,79.3,75.8,80.0,78.5,74.6,73.8,75.2,74.1,71.7,73.1,64.4,65.3,72.4,75.5,74.5,76.8,78.2,73.9,77.5,74.5,72.9,70.5,71.4,77.3,75.8],\"yaxis\":\"y\",\"type\":\"scatter\"},{\"hovertemplate\":\"region=East Asia & Pacific<br>income=%{x}<br>health=%{y}<br>population=%{marker.size}<extra></extra>\",\"legendgroup\":\"East Asia & Pacific\",\"marker\":{\"color\":\"#FFA15A\",\"size\":[23968973,423188,15577899,1376048943,892145,257563815,126573481,112423,6802023,30331007,52993,104460,2959134,53897154,4528526,25155317,7619321,100699395,193228,5603740,583591,106170,264652],\"sizemode\":\"area\",\"sizeref\":3440122.3575,\"symbol\":\"circle\"},\"mode\":\"markers\",\"name\":\"East Asia & Pacific\",\"orientation\":\"v\",\"showlegend\":true,\"x\":[44056,73003,3267,13334,7925,10504,36162,1824,5212,24320,3661,3510,11819,4012,34186,1390,2529,6876,5558,80794,2047,5069,2912],\"xaxis\":\"x\",\"y\":[81.8,78.7,68.4,76.9,66.3,70.9,83.5,62.4,66.4,75.1,65.1,67.0,65.3,67.9,80.6,71.4,60.6,70.2,72.2,82.1,64.1,70.5,65.0],\"yaxis\":\"y\",\"type\":\"scatter\"},{\"hovertemplate\":\"region=South Asia<br>income=%{x}<br>health=%{y}<br>population=%{marker.size}<extra></extra>\",\"legendgroup\":\"South Asia\",\"marker\":{\"color\":\"#19d3f3\",\"size\":[160995642,774830,1311050527,363657,28513700,188924874,50293439,20715010,67959359,1184765,93447601],\"sizemode\":\"area\",\"sizeref\":3440122.3575,\"symbol\":\"circle\"},\"mode\":\"markers\",\"name\":\"South Asia\",\"orientation\":\"v\",\"showlegend\":true,\"x\":[3161,7983,5903,14408,2352,4743,34644,10624,14512,2086,5623],\"xaxis\":\"x\",\"y\":[70.1,70.2,66.8,79.5,71.2,66.5,80.7,76.5,75.1,72.4,76.5],\"yaxis\":\"y\",\"type\":\"scatter\"},{\"hovertemplate\":\"region=North America<br>income=%{x}<br>health=%{y}<br>population=%{marker.size}<extra></extra>\",\"legendgroup\":\"North America\",\"marker\":{\"color\":\"#FF6692\",\"size\":[35939927,321773631],\"sizemode\":\"area\",\"sizeref\":3440122.3575,\"symbol\":\"circle\"},\"mode\":\"markers\",\"name\":\"North America\",\"orientation\":\"v\",\"showlegend\":true,\"x\":[43294,53354],\"xaxis\":\"x\",\"y\":[81.7,79.1],\"yaxis\":\"y\",\"type\":\"scatter\"}],                        {\"template\":{\"data\":{\"histogram2dcontour\":[{\"type\":\"histogram2dcontour\",\"colorbar\":{\"outlinewidth\":0,\"ticks\":\"\"},\"colorscale\":[[0.0,\"#0d0887\"],[0.1111111111111111,\"#46039f\"],[0.2222222222222222,\"#7201a8\"],[0.3333333333333333,\"#9c179e\"],[0.4444444444444444,\"#bd3786\"],[0.5555555555555556,\"#d8576b\"],[0.6666666666666666,\"#ed7953\"],[0.7777777777777778,\"#fb9f3a\"],[0.8888888888888888,\"#fdca26\"],[1.0,\"#f0f921\"]]}],\"choropleth\":[{\"type\":\"choropleth\",\"colorbar\":{\"outlinewidth\":0,\"ticks\":\"\"}}],\"histogram2d\":[{\"type\":\"histogram2d\",\"colorbar\":{\"outlinewidth\":0,\"ticks\":\"\"},\"colorscale\":[[0.0,\"#0d0887\"],[0.1111111111111111,\"#46039f\"],[0.2222222222222222,\"#7201a8\"],[0.3333333333333333,\"#9c179e\"],[0.4444444444444444,\"#bd3786\"],[0.5555555555555556,\"#d8576b\"],[0.6666666666666666,\"#ed7953\"],[0.7777777777777778,\"#fb9f3a\"],[0.8888888888888888,\"#fdca26\"],[1.0,\"#f0f921\"]]}],\"heatmap\":[{\"type\":\"heatmap\",\"colorbar\":{\"outlinewidth\":0,\"ticks\":\"\"},\"colorscale\":[[0.0,\"#0d0887\"],[0.1111111111111111,\"#46039f\"],[0.2222222222222222,\"#7201a8\"],[0.3333333333333333,\"#9c179e\"],[0.4444444444444444,\"#bd3786\"],[0.5555555555555556,\"#d8576b\"],[0.6666666666666666,\"#ed7953\"],[0.7777777777777778,\"#fb9f3a\"],[0.8888888888888888,\"#fdca26\"],[1.0,\"#f0f921\"]]}],\"heatmapgl\":[{\"type\":\"heatmapgl\",\"colorbar\":{\"outlinewidth\":0,\"ticks\":\"\"},\"colorscale\":[[0.0,\"#0d0887\"],[0.1111111111111111,\"#46039f\"],[0.2222222222222222,\"#7201a8\"],[0.3333333333333333,\"#9c179e\"],[0.4444444444444444,\"#bd3786\"],[0.5555555555555556,\"#d8576b\"],[0.6666666666666666,\"#ed7953\"],[0.7777777777777778,\"#fb9f3a\"],[0.8888888888888888,\"#fdca26\"],[1.0,\"#f0f921\"]]}],\"contourcarpet\":[{\"type\":\"contourcarpet\",\"colorbar\":{\"outlinewidth\":0,\"ticks\":\"\"}}],\"contour\":[{\"type\":\"contour\",\"colorbar\":{\"outlinewidth\":0,\"ticks\":\"\"},\"colorscale\":[[0.0,\"#0d0887\"],[0.1111111111111111,\"#46039f\"],[0.2222222222222222,\"#7201a8\"],[0.3333333333333333,\"#9c179e\"],[0.4444444444444444,\"#bd3786\"],[0.5555555555555556,\"#d8576b\"],[0.6666666666666666,\"#ed7953\"],[0.7777777777777778,\"#fb9f3a\"],[0.8888888888888888,\"#fdca26\"],[1.0,\"#f0f921\"]]}],\"surface\":[{\"type\":\"surface\",\"colorbar\":{\"outlinewidth\":0,\"ticks\":\"\"},\"colorscale\":[[0.0,\"#0d0887\"],[0.1111111111111111,\"#46039f\"],[0.2222222222222222,\"#7201a8\"],[0.3333333333333333,\"#9c179e\"],[0.4444444444444444,\"#bd3786\"],[0.5555555555555556,\"#d8576b\"],[0.6666666666666666,\"#ed7953\"],[0.7777777777777778,\"#fb9f3a\"],[0.8888888888888888,\"#fdca26\"],[1.0,\"#f0f921\"]]}],\"mesh3d\":[{\"type\":\"mesh3d\",\"colorbar\":{\"outlinewidth\":0,\"ticks\":\"\"}}],\"scatter\":[{\"fillpattern\":{\"fillmode\":\"overlay\",\"size\":10,\"solidity\":0.2},\"type\":\"scatter\"}],\"parcoords\":[{\"type\":\"parcoords\",\"line\":{\"colorbar\":{\"outlinewidth\":0,\"ticks\":\"\"}}}],\"scatterpolargl\":[{\"type\":\"scatterpolargl\",\"marker\":{\"colorbar\":{\"outlinewidth\":0,\"ticks\":\"\"}}}],\"bar\":[{\"error_x\":{\"color\":\"#2a3f5f\"},\"error_y\":{\"color\":\"#2a3f5f\"},\"marker\":{\"line\":{\"color\":\"#E5ECF6\",\"width\":0.5},\"pattern\":{\"fillmode\":\"overlay\",\"size\":10,\"solidity\":0.2}},\"type\":\"bar\"}],\"scattergeo\":[{\"type\":\"scattergeo\",\"marker\":{\"colorbar\":{\"outlinewidth\":0,\"ticks\":\"\"}}}],\"scatterpolar\":[{\"type\":\"scatterpolar\",\"marker\":{\"colorbar\":{\"outlinewidth\":0,\"ticks\":\"\"}}}],\"histogram\":[{\"marker\":{\"pattern\":{\"fillmode\":\"overlay\",\"size\":10,\"solidity\":0.2}},\"type\":\"histogram\"}],\"scattergl\":[{\"type\":\"scattergl\",\"marker\":{\"colorbar\":{\"outlinewidth\":0,\"ticks\":\"\"}}}],\"scatter3d\":[{\"type\":\"scatter3d\",\"line\":{\"colorbar\":{\"outlinewidth\":0,\"ticks\":\"\"}},\"marker\":{\"colorbar\":{\"outlinewidth\":0,\"ticks\":\"\"}}}],\"scattermapbox\":[{\"type\":\"scattermapbox\",\"marker\":{\"colorbar\":{\"outlinewidth\":0,\"ticks\":\"\"}}}],\"scatterternary\":[{\"type\":\"scatterternary\",\"marker\":{\"colorbar\":{\"outlinewidth\":0,\"ticks\":\"\"}}}],\"scattercarpet\":[{\"type\":\"scattercarpet\",\"marker\":{\"colorbar\":{\"outlinewidth\":0,\"ticks\":\"\"}}}],\"carpet\":[{\"aaxis\":{\"endlinecolor\":\"#2a3f5f\",\"gridcolor\":\"white\",\"linecolor\":\"white\",\"minorgridcolor\":\"white\",\"startlinecolor\":\"#2a3f5f\"},\"baxis\":{\"endlinecolor\":\"#2a3f5f\",\"gridcolor\":\"white\",\"linecolor\":\"white\",\"minorgridcolor\":\"white\",\"startlinecolor\":\"#2a3f5f\"},\"type\":\"carpet\"}],\"table\":[{\"cells\":{\"fill\":{\"color\":\"#EBF0F8\"},\"line\":{\"color\":\"white\"}},\"header\":{\"fill\":{\"color\":\"#C8D4E3\"},\"line\":{\"color\":\"white\"}},\"type\":\"table\"}],\"barpolar\":[{\"marker\":{\"line\":{\"color\":\"#E5ECF6\",\"width\":0.5},\"pattern\":{\"fillmode\":\"overlay\",\"size\":10,\"solidity\":0.2}},\"type\":\"barpolar\"}],\"pie\":[{\"automargin\":true,\"type\":\"pie\"}]},\"layout\":{\"autotypenumbers\":\"strict\",\"colorway\":[\"#636efa\",\"#EF553B\",\"#00cc96\",\"#ab63fa\",\"#FFA15A\",\"#19d3f3\",\"#FF6692\",\"#B6E880\",\"#FF97FF\",\"#FECB52\"],\"font\":{\"color\":\"#2a3f5f\"},\"hovermode\":\"closest\",\"hoverlabel\":{\"align\":\"left\"},\"paper_bgcolor\":\"white\",\"plot_bgcolor\":\"#E5ECF6\",\"polar\":{\"bgcolor\":\"#E5ECF6\",\"angularaxis\":{\"gridcolor\":\"white\",\"linecolor\":\"white\",\"ticks\":\"\"},\"radialaxis\":{\"gridcolor\":\"white\",\"linecolor\":\"white\",\"ticks\":\"\"}},\"ternary\":{\"bgcolor\":\"#E5ECF6\",\"aaxis\":{\"gridcolor\":\"white\",\"linecolor\":\"white\",\"ticks\":\"\"},\"baxis\":{\"gridcolor\":\"white\",\"linecolor\":\"white\",\"ticks\":\"\"},\"caxis\":{\"gridcolor\":\"white\",\"linecolor\":\"white\",\"ticks\":\"\"}},\"coloraxis\":{\"colorbar\":{\"outlinewidth\":0,\"ticks\":\"\"}},\"colorscale\":{\"sequential\":[[0.0,\"#0d0887\"],[0.1111111111111111,\"#46039f\"],[0.2222222222222222,\"#7201a8\"],[0.3333333333333333,\"#9c179e\"],[0.4444444444444444,\"#bd3786\"],[0.5555555555555556,\"#d8576b\"],[0.6666666666666666,\"#ed7953\"],[0.7777777777777778,\"#fb9f3a\"],[0.8888888888888888,\"#fdca26\"],[1.0,\"#f0f921\"]],\"sequentialminus\":[[0.0,\"#0d0887\"],[0.1111111111111111,\"#46039f\"],[0.2222222222222222,\"#7201a8\"],[0.3333333333333333,\"#9c179e\"],[0.4444444444444444,\"#bd3786\"],[0.5555555555555556,\"#d8576b\"],[0.6666666666666666,\"#ed7953\"],[0.7777777777777778,\"#fb9f3a\"],[0.8888888888888888,\"#fdca26\"],[1.0,\"#f0f921\"]],\"diverging\":[[0,\"#8e0152\"],[0.1,\"#c51b7d\"],[0.2,\"#de77ae\"],[0.3,\"#f1b6da\"],[0.4,\"#fde0ef\"],[0.5,\"#f7f7f7\"],[0.6,\"#e6f5d0\"],[0.7,\"#b8e186\"],[0.8,\"#7fbc41\"],[0.9,\"#4d9221\"],[1,\"#276419\"]]},\"xaxis\":{\"gridcolor\":\"white\",\"linecolor\":\"white\",\"ticks\":\"\",\"title\":{\"standoff\":15},\"zerolinecolor\":\"white\",\"automargin\":true,\"zerolinewidth\":2},\"yaxis\":{\"gridcolor\":\"white\",\"linecolor\":\"white\",\"ticks\":\"\",\"title\":{\"standoff\":15},\"zerolinecolor\":\"white\",\"automargin\":true,\"zerolinewidth\":2},\"scene\":{\"xaxis\":{\"backgroundcolor\":\"#E5ECF6\",\"gridcolor\":\"white\",\"linecolor\":\"white\",\"showbackground\":true,\"ticks\":\"\",\"zerolinecolor\":\"white\",\"gridwidth\":2},\"yaxis\":{\"backgroundcolor\":\"#E5ECF6\",\"gridcolor\":\"white\",\"linecolor\":\"white\",\"showbackground\":true,\"ticks\":\"\",\"zerolinecolor\":\"white\",\"gridwidth\":2},\"zaxis\":{\"backgroundcolor\":\"#E5ECF6\",\"gridcolor\":\"white\",\"linecolor\":\"white\",\"showbackground\":true,\"ticks\":\"\",\"zerolinecolor\":\"white\",\"gridwidth\":2}},\"shapedefaults\":{\"line\":{\"color\":\"#2a3f5f\"}},\"annotationdefaults\":{\"arrowcolor\":\"#2a3f5f\",\"arrowhead\":0,\"arrowwidth\":1},\"geo\":{\"bgcolor\":\"white\",\"landcolor\":\"#E5ECF6\",\"subunitcolor\":\"white\",\"showland\":true,\"showlakes\":true,\"lakecolor\":\"white\"},\"title\":{\"x\":0.05},\"mapbox\":{\"style\":\"light\"}}},\"xaxis\":{\"anchor\":\"y\",\"domain\":[0.0,1.0],\"title\":{\"text\":\"income\"}},\"yaxis\":{\"anchor\":\"x\",\"domain\":[0.0,1.0],\"title\":{\"text\":\"health\"}},\"legend\":{\"title\":{\"text\":\"region\"},\"tracegroupgap\":0,\"itemsizing\":\"constant\"},\"margin\":{\"t\":60}},                        {\"responsive\": true}                    ).then(function(){\n",
       "                            \n",
       "var gd = document.getElementById('7fa64ace-55e6-4f39-a441-e7e6b32b3e71');\n",
       "var x = new MutationObserver(function (mutations, observer) {{\n",
       "        var display = window.getComputedStyle(gd).display;\n",
       "        if (!display || display === 'none') {{\n",
       "            console.log([gd, 'removed!']);\n",
       "            Plotly.purge(gd);\n",
       "            observer.disconnect();\n",
       "        }}\n",
       "}});\n",
       "\n",
       "// Listen for the removal of the full notebook cells\n",
       "var notebookContainer = gd.closest('#notebook-container');\n",
       "if (notebookContainer) {{\n",
       "    x.observe(notebookContainer, {childList: true});\n",
       "}}\n",
       "\n",
       "// Listen for the clearing of the current output cell\n",
       "var outputEl = gd.closest('.output');\n",
       "if (outputEl) {{\n",
       "    x.observe(outputEl, {childList: true});\n",
       "}}\n",
       "\n",
       "                        })                };                });            </script>        </div>"
      ]
     },
     "metadata": {},
     "output_type": "display_data"
    }
   ],
   "source": [
    "px.scatter(df, x='income', y='health', color='region', size='population')"
   ]
  },
  {
   "cell_type": "code",
   "execution_count": 6,
   "id": "f5085bbb",
   "metadata": {},
   "outputs": [],
   "source": [
    "import geopandas as gpd"
   ]
  },
  {
   "cell_type": "code",
   "execution_count": 7,
   "id": "2023b1f6",
   "metadata": {},
   "outputs": [],
   "source": [
    "geo = gpd.read_file('./datos/world/countries.geojson')"
   ]
  },
  {
   "cell_type": "code",
   "execution_count": 10,
   "id": "1682d13c",
   "metadata": {},
   "outputs": [
    {
     "data": {
      "text/html": [
       "<div>\n",
       "<style scoped>\n",
       "    .dataframe tbody tr th:only-of-type {\n",
       "        vertical-align: middle;\n",
       "    }\n",
       "\n",
       "    .dataframe tbody tr th {\n",
       "        vertical-align: top;\n",
       "    }\n",
       "\n",
       "    .dataframe thead th {\n",
       "        text-align: right;\n",
       "    }\n",
       "</style>\n",
       "<table border=\"1\" class=\"dataframe\">\n",
       "  <thead>\n",
       "    <tr style=\"text-align: right;\">\n",
       "      <th></th>\n",
       "      <th>ADMIN</th>\n",
       "      <th>ISO_A3</th>\n",
       "      <th>ISO_A2</th>\n",
       "      <th>geometry</th>\n",
       "    </tr>\n",
       "  </thead>\n",
       "  <tbody>\n",
       "    <tr>\n",
       "      <th>0</th>\n",
       "      <td>Aruba</td>\n",
       "      <td>ABW</td>\n",
       "      <td>AW</td>\n",
       "      <td>MULTIPOLYGON (((-69.99694 12.57758, -69.93639 ...</td>\n",
       "    </tr>\n",
       "    <tr>\n",
       "      <th>1</th>\n",
       "      <td>Afghanistan</td>\n",
       "      <td>AFG</td>\n",
       "      <td>AF</td>\n",
       "      <td>MULTIPOLYGON (((71.04980 38.40866, 71.05714 38...</td>\n",
       "    </tr>\n",
       "    <tr>\n",
       "      <th>2</th>\n",
       "      <td>Angola</td>\n",
       "      <td>AGO</td>\n",
       "      <td>AO</td>\n",
       "      <td>MULTIPOLYGON (((11.73752 -16.69258, 11.73851 -...</td>\n",
       "    </tr>\n",
       "    <tr>\n",
       "      <th>3</th>\n",
       "      <td>Anguilla</td>\n",
       "      <td>AIA</td>\n",
       "      <td>AI</td>\n",
       "      <td>MULTIPOLYGON (((-63.03767 18.21296, -63.09952 ...</td>\n",
       "    </tr>\n",
       "    <tr>\n",
       "      <th>4</th>\n",
       "      <td>Albania</td>\n",
       "      <td>ALB</td>\n",
       "      <td>AL</td>\n",
       "      <td>MULTIPOLYGON (((19.74777 42.57890, 19.74601 42...</td>\n",
       "    </tr>\n",
       "    <tr>\n",
       "      <th>...</th>\n",
       "      <td>...</td>\n",
       "      <td>...</td>\n",
       "      <td>...</td>\n",
       "      <td>...</td>\n",
       "    </tr>\n",
       "    <tr>\n",
       "      <th>250</th>\n",
       "      <td>Samoa</td>\n",
       "      <td>WSM</td>\n",
       "      <td>WS</td>\n",
       "      <td>MULTIPOLYGON (((-171.57002 -13.93816, -171.564...</td>\n",
       "    </tr>\n",
       "    <tr>\n",
       "      <th>251</th>\n",
       "      <td>Yemen</td>\n",
       "      <td>YEM</td>\n",
       "      <td>YE</td>\n",
       "      <td>MULTIPOLYGON (((53.30824 12.11839, 53.31027 12...</td>\n",
       "    </tr>\n",
       "    <tr>\n",
       "      <th>252</th>\n",
       "      <td>South Africa</td>\n",
       "      <td>ZAF</td>\n",
       "      <td>ZA</td>\n",
       "      <td>MULTIPOLYGON (((37.86378 -46.94085, 37.83644 -...</td>\n",
       "    </tr>\n",
       "    <tr>\n",
       "      <th>253</th>\n",
       "      <td>Zambia</td>\n",
       "      <td>ZMB</td>\n",
       "      <td>ZM</td>\n",
       "      <td>MULTIPOLYGON (((31.11984 -8.61663, 31.14102 -8...</td>\n",
       "    </tr>\n",
       "    <tr>\n",
       "      <th>254</th>\n",
       "      <td>Zimbabwe</td>\n",
       "      <td>ZWE</td>\n",
       "      <td>ZW</td>\n",
       "      <td>MULTIPOLYGON (((30.01065 -15.64623, 30.05024 -...</td>\n",
       "    </tr>\n",
       "  </tbody>\n",
       "</table>\n",
       "<p>255 rows × 4 columns</p>\n",
       "</div>"
      ],
      "text/plain": [
       "            ADMIN ISO_A3 ISO_A2  \\\n",
       "0           Aruba    ABW     AW   \n",
       "1     Afghanistan    AFG     AF   \n",
       "2          Angola    AGO     AO   \n",
       "3        Anguilla    AIA     AI   \n",
       "4         Albania    ALB     AL   \n",
       "..            ...    ...    ...   \n",
       "250         Samoa    WSM     WS   \n",
       "251         Yemen    YEM     YE   \n",
       "252  South Africa    ZAF     ZA   \n",
       "253        Zambia    ZMB     ZM   \n",
       "254      Zimbabwe    ZWE     ZW   \n",
       "\n",
       "                                              geometry  \n",
       "0    MULTIPOLYGON (((-69.99694 12.57758, -69.93639 ...  \n",
       "1    MULTIPOLYGON (((71.04980 38.40866, 71.05714 38...  \n",
       "2    MULTIPOLYGON (((11.73752 -16.69258, 11.73851 -...  \n",
       "3    MULTIPOLYGON (((-63.03767 18.21296, -63.09952 ...  \n",
       "4    MULTIPOLYGON (((19.74777 42.57890, 19.74601 42...  \n",
       "..                                                 ...  \n",
       "250  MULTIPOLYGON (((-171.57002 -13.93816, -171.564...  \n",
       "251  MULTIPOLYGON (((53.30824 12.11839, 53.31027 12...  \n",
       "252  MULTIPOLYGON (((37.86378 -46.94085, 37.83644 -...  \n",
       "253  MULTIPOLYGON (((31.11984 -8.61663, 31.14102 -8...  \n",
       "254  MULTIPOLYGON (((30.01065 -15.64623, 30.05024 -...  \n",
       "\n",
       "[255 rows x 4 columns]"
      ]
     },
     "execution_count": 10,
     "metadata": {},
     "output_type": "execute_result"
    }
   ],
   "source": [
    "geo"
   ]
  },
  {
   "cell_type": "code",
   "execution_count": 18,
   "id": "261a958c",
   "metadata": {},
   "outputs": [
    {
     "data": {
      "text/html": [
       "<div>\n",
       "<style scoped>\n",
       "    .dataframe tbody tr th:only-of-type {\n",
       "        vertical-align: middle;\n",
       "    }\n",
       "\n",
       "    .dataframe tbody tr th {\n",
       "        vertical-align: top;\n",
       "    }\n",
       "\n",
       "    .dataframe thead th {\n",
       "        text-align: right;\n",
       "    }\n",
       "</style>\n",
       "<table border=\"1\" class=\"dataframe\">\n",
       "  <thead>\n",
       "    <tr style=\"text-align: right;\">\n",
       "      <th></th>\n",
       "      <th>ADMIN</th>\n",
       "      <th>ISO_A3</th>\n",
       "      <th>ISO_A2</th>\n",
       "      <th>geometry</th>\n",
       "      <th>country</th>\n",
       "      <th>region.value</th>\n",
       "      <th>income</th>\n",
       "      <th>health</th>\n",
       "      <th>population</th>\n",
       "    </tr>\n",
       "  </thead>\n",
       "  <tbody>\n",
       "    <tr>\n",
       "      <th>0</th>\n",
       "      <td>Afghanistan</td>\n",
       "      <td>AFG</td>\n",
       "      <td>AF</td>\n",
       "      <td>MULTIPOLYGON (((71.04980 38.40866, 71.05714 38...</td>\n",
       "      <td>Afghanistan</td>\n",
       "      <td>Europe &amp; Central Asia</td>\n",
       "      <td>1925</td>\n",
       "      <td>57,63</td>\n",
       "      <td>32526562</td>\n",
       "    </tr>\n",
       "    <tr>\n",
       "      <th>1</th>\n",
       "      <td>Angola</td>\n",
       "      <td>AGO</td>\n",
       "      <td>AO</td>\n",
       "      <td>MULTIPOLYGON (((11.73752 -16.69258, 11.73851 -...</td>\n",
       "      <td>Angola</td>\n",
       "      <td>Sub-Saharan Africa</td>\n",
       "      <td>7615</td>\n",
       "      <td>61</td>\n",
       "      <td>25021974</td>\n",
       "    </tr>\n",
       "    <tr>\n",
       "      <th>2</th>\n",
       "      <td>Albania</td>\n",
       "      <td>ALB</td>\n",
       "      <td>AL</td>\n",
       "      <td>MULTIPOLYGON (((19.74777 42.57890, 19.74601 42...</td>\n",
       "      <td>Albania</td>\n",
       "      <td>Europe &amp; Central Asia</td>\n",
       "      <td>10620</td>\n",
       "      <td>76</td>\n",
       "      <td>2896679</td>\n",
       "    </tr>\n",
       "    <tr>\n",
       "      <th>3</th>\n",
       "      <td>Andorra</td>\n",
       "      <td>AND</td>\n",
       "      <td>AD</td>\n",
       "      <td>MULTIPOLYGON (((1.70701 42.50278, 1.69750 42.4...</td>\n",
       "      <td>Andorra</td>\n",
       "      <td>Europe &amp; Central Asia</td>\n",
       "      <td>46577</td>\n",
       "      <td>84,1</td>\n",
       "      <td>70473</td>\n",
       "    </tr>\n",
       "    <tr>\n",
       "      <th>4</th>\n",
       "      <td>United Arab Emirates</td>\n",
       "      <td>ARE</td>\n",
       "      <td>AE</td>\n",
       "      <td>MULTIPOLYGON (((53.86305 24.23469, 53.88860 24...</td>\n",
       "      <td>United Arab Emirates</td>\n",
       "      <td>Middle East &amp; North Africa</td>\n",
       "      <td>60749</td>\n",
       "      <td>76,6</td>\n",
       "      <td>9156963</td>\n",
       "    </tr>\n",
       "    <tr>\n",
       "      <th>...</th>\n",
       "      <td>...</td>\n",
       "      <td>...</td>\n",
       "      <td>...</td>\n",
       "      <td>...</td>\n",
       "      <td>...</td>\n",
       "      <td>...</td>\n",
       "      <td>...</td>\n",
       "      <td>...</td>\n",
       "      <td>...</td>\n",
       "    </tr>\n",
       "    <tr>\n",
       "      <th>182</th>\n",
       "      <td>Samoa</td>\n",
       "      <td>WSM</td>\n",
       "      <td>WS</td>\n",
       "      <td>MULTIPOLYGON (((-171.57002 -13.93816, -171.564...</td>\n",
       "      <td>Samoa</td>\n",
       "      <td>East Asia &amp; Pacific</td>\n",
       "      <td>5558</td>\n",
       "      <td>72,2</td>\n",
       "      <td>193228</td>\n",
       "    </tr>\n",
       "    <tr>\n",
       "      <th>183</th>\n",
       "      <td>Yemen</td>\n",
       "      <td>YEM</td>\n",
       "      <td>YE</td>\n",
       "      <td>MULTIPOLYGON (((53.30824 12.11839, 53.31027 12...</td>\n",
       "      <td>Yemen</td>\n",
       "      <td>Middle East &amp; North Africa</td>\n",
       "      <td>3887</td>\n",
       "      <td>67,6</td>\n",
       "      <td>26832215</td>\n",
       "    </tr>\n",
       "    <tr>\n",
       "      <th>184</th>\n",
       "      <td>South Africa</td>\n",
       "      <td>ZAF</td>\n",
       "      <td>ZA</td>\n",
       "      <td>MULTIPOLYGON (((37.86378 -46.94085, 37.83644 -...</td>\n",
       "      <td>South Africa</td>\n",
       "      <td>Sub-Saharan Africa</td>\n",
       "      <td>12509</td>\n",
       "      <td>63,72</td>\n",
       "      <td>54490406</td>\n",
       "    </tr>\n",
       "    <tr>\n",
       "      <th>185</th>\n",
       "      <td>Zambia</td>\n",
       "      <td>ZMB</td>\n",
       "      <td>ZM</td>\n",
       "      <td>MULTIPOLYGON (((31.11984 -8.61663, 31.14102 -8...</td>\n",
       "      <td>Zambia</td>\n",
       "      <td>Sub-Saharan Africa</td>\n",
       "      <td>4034</td>\n",
       "      <td>58,96</td>\n",
       "      <td>16211767</td>\n",
       "    </tr>\n",
       "    <tr>\n",
       "      <th>186</th>\n",
       "      <td>Zimbabwe</td>\n",
       "      <td>ZWE</td>\n",
       "      <td>ZW</td>\n",
       "      <td>MULTIPOLYGON (((30.01065 -15.64623, 30.05024 -...</td>\n",
       "      <td>Zimbabwe</td>\n",
       "      <td>Sub-Saharan Africa</td>\n",
       "      <td>1801</td>\n",
       "      <td>60,01</td>\n",
       "      <td>15602751</td>\n",
       "    </tr>\n",
       "  </tbody>\n",
       "</table>\n",
       "<p>187 rows × 9 columns</p>\n",
       "</div>"
      ],
      "text/plain": [
       "                    ADMIN ISO_A3 ISO_A2  \\\n",
       "0             Afghanistan    AFG     AF   \n",
       "1                  Angola    AGO     AO   \n",
       "2                 Albania    ALB     AL   \n",
       "3                 Andorra    AND     AD   \n",
       "4    United Arab Emirates    ARE     AE   \n",
       "..                    ...    ...    ...   \n",
       "182                 Samoa    WSM     WS   \n",
       "183                 Yemen    YEM     YE   \n",
       "184          South Africa    ZAF     ZA   \n",
       "185                Zambia    ZMB     ZM   \n",
       "186              Zimbabwe    ZWE     ZW   \n",
       "\n",
       "                                              geometry               country  \\\n",
       "0    MULTIPOLYGON (((71.04980 38.40866, 71.05714 38...           Afghanistan   \n",
       "1    MULTIPOLYGON (((11.73752 -16.69258, 11.73851 -...                Angola   \n",
       "2    MULTIPOLYGON (((19.74777 42.57890, 19.74601 42...               Albania   \n",
       "3    MULTIPOLYGON (((1.70701 42.50278, 1.69750 42.4...               Andorra   \n",
       "4    MULTIPOLYGON (((53.86305 24.23469, 53.88860 24...  United Arab Emirates   \n",
       "..                                                 ...                   ...   \n",
       "182  MULTIPOLYGON (((-171.57002 -13.93816, -171.564...                 Samoa   \n",
       "183  MULTIPOLYGON (((53.30824 12.11839, 53.31027 12...                 Yemen   \n",
       "184  MULTIPOLYGON (((37.86378 -46.94085, 37.83644 -...          South Africa   \n",
       "185  MULTIPOLYGON (((31.11984 -8.61663, 31.14102 -8...                Zambia   \n",
       "186  MULTIPOLYGON (((30.01065 -15.64623, 30.05024 -...              Zimbabwe   \n",
       "\n",
       "                   region.value  income health  population  \n",
       "0         Europe & Central Asia    1925  57,63    32526562  \n",
       "1            Sub-Saharan Africa    7615     61    25021974  \n",
       "2         Europe & Central Asia   10620     76     2896679  \n",
       "3         Europe & Central Asia   46577   84,1       70473  \n",
       "4    Middle East & North Africa   60749   76,6     9156963  \n",
       "..                          ...     ...    ...         ...  \n",
       "182         East Asia & Pacific    5558   72,2      193228  \n",
       "183  Middle East & North Africa    3887   67,6    26832215  \n",
       "184          Sub-Saharan Africa   12509  63,72    54490406  \n",
       "185          Sub-Saharan Africa    4034  58,96    16211767  \n",
       "186          Sub-Saharan Africa    1801  60,01    15602751  \n",
       "\n",
       "[187 rows x 9 columns]"
      ]
     },
     "execution_count": 18,
     "metadata": {},
     "output_type": "execute_result"
    }
   ],
   "source": [
    "geo.merge(df, right_on='country', left_on='ADMIN')"
   ]
  },
  {
   "cell_type": "code",
   "execution_count": null,
   "id": "14009fef",
   "metadata": {},
   "outputs": [],
   "source": []
  }
 ],
 "metadata": {
  "kernelspec": {
   "display_name": "ironhack",
   "language": "python",
   "name": "ironhack"
  },
  "language_info": {
   "codemirror_mode": {
    "name": "ipython",
    "version": 3
   },
   "file_extension": ".py",
   "mimetype": "text/x-python",
   "name": "python",
   "nbconvert_exporter": "python",
   "pygments_lexer": "ipython3",
   "version": "3.10.6"
  }
 },
 "nbformat": 4,
 "nbformat_minor": 5
}
