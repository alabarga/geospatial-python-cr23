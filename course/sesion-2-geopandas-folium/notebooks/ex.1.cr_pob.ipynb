{
 "cells": [
  {
   "cell_type": "code",
   "execution_count": 1,
   "id": "e8ec976a",
   "metadata": {},
   "outputs": [],
   "source": [
    "import requests"
   ]
  },
  {
   "cell_type": "code",
   "execution_count": 3,
   "id": "184027b8",
   "metadata": {},
   "outputs": [],
   "source": [
    "resp = requests.get('https://github.com/investigacion/divisiones-territoriales-data/raw/master/data/json/adm2-cantones.json')"
   ]
  },
  {
   "cell_type": "code",
   "execution_count": 8,
   "id": "dd845fb0",
   "metadata": {},
   "outputs": [],
   "source": [
    "import pandas as pd"
   ]
  },
  {
   "cell_type": "code",
   "execution_count": 11,
   "id": "934528f0",
   "metadata": {},
   "outputs": [],
   "source": [
    "data = pd.DataFrame(resp.json().values())"
   ]
  },
  {
   "cell_type": "code",
   "execution_count": 18,
   "id": "2cd9d24c",
   "metadata": {},
   "outputs": [
    {
     "data": {
      "text/html": [
       "<div>\n",
       "<style scoped>\n",
       "    .dataframe tbody tr th:only-of-type {\n",
       "        vertical-align: middle;\n",
       "    }\n",
       "\n",
       "    .dataframe tbody tr th {\n",
       "        vertical-align: top;\n",
       "    }\n",
       "\n",
       "    .dataframe thead th {\n",
       "        text-align: right;\n",
       "    }\n",
       "</style>\n",
       "<table border=\"1\" class=\"dataframe\">\n",
       "  <thead>\n",
       "    <tr style=\"text-align: right;\">\n",
       "      <th></th>\n",
       "      <th>Provincia</th>\n",
       "      <th>Nombre</th>\n",
       "      <th>Área (km2)</th>\n",
       "      <th>Pop. (2008)</th>\n",
       "    </tr>\n",
       "  </thead>\n",
       "  <tbody>\n",
       "    <tr>\n",
       "      <th>0</th>\n",
       "      <td>1</td>\n",
       "      <td>San José</td>\n",
       "      <td>44.62</td>\n",
       "      <td>352366</td>\n",
       "    </tr>\n",
       "    <tr>\n",
       "      <th>1</th>\n",
       "      <td>1</td>\n",
       "      <td>Escazú</td>\n",
       "      <td>34.49</td>\n",
       "      <td>60201</td>\n",
       "    </tr>\n",
       "    <tr>\n",
       "      <th>2</th>\n",
       "      <td>1</td>\n",
       "      <td>Desamparados</td>\n",
       "      <td>118.26</td>\n",
       "      <td>221346</td>\n",
       "    </tr>\n",
       "    <tr>\n",
       "      <th>3</th>\n",
       "      <td>1</td>\n",
       "      <td>Puriscal</td>\n",
       "      <td>553.66</td>\n",
       "      <td>32767</td>\n",
       "    </tr>\n",
       "    <tr>\n",
       "      <th>4</th>\n",
       "      <td>1</td>\n",
       "      <td>Tarrazú</td>\n",
       "      <td>297.5</td>\n",
       "      <td>16419</td>\n",
       "    </tr>\n",
       "    <tr>\n",
       "      <th>...</th>\n",
       "      <td>...</td>\n",
       "      <td>...</td>\n",
       "      <td>...</td>\n",
       "      <td>...</td>\n",
       "    </tr>\n",
       "    <tr>\n",
       "      <th>76</th>\n",
       "      <td>7</td>\n",
       "      <td>Pococí</td>\n",
       "      <td>2403.49</td>\n",
       "      <td>121735</td>\n",
       "    </tr>\n",
       "    <tr>\n",
       "      <th>77</th>\n",
       "      <td>7</td>\n",
       "      <td>Siquirres</td>\n",
       "      <td>860.19</td>\n",
       "      <td>60881</td>\n",
       "    </tr>\n",
       "    <tr>\n",
       "      <th>78</th>\n",
       "      <td>7</td>\n",
       "      <td>Talamanca</td>\n",
       "      <td>2809.93</td>\n",
       "      <td>32158</td>\n",
       "    </tr>\n",
       "    <tr>\n",
       "      <th>79</th>\n",
       "      <td>7</td>\n",
       "      <td>Matina</td>\n",
       "      <td>772.64</td>\n",
       "      <td>39961</td>\n",
       "    </tr>\n",
       "    <tr>\n",
       "      <th>80</th>\n",
       "      <td>7</td>\n",
       "      <td>Guácimo</td>\n",
       "      <td>576.48</td>\n",
       "      <td>41082</td>\n",
       "    </tr>\n",
       "  </tbody>\n",
       "</table>\n",
       "<p>81 rows × 4 columns</p>\n",
       "</div>"
      ],
      "text/plain": [
       "   Provincia        Nombre Área (km2) Pop. (2008)\n",
       "0          1      San José      44.62      352366\n",
       "1          1        Escazú      34.49       60201\n",
       "2          1  Desamparados     118.26      221346\n",
       "3          1      Puriscal     553.66       32767\n",
       "4          1       Tarrazú      297.5       16419\n",
       "..       ...           ...        ...         ...\n",
       "76         7        Pococí    2403.49      121735\n",
       "77         7     Siquirres     860.19       60881\n",
       "78         7     Talamanca    2809.93       32158\n",
       "79         7        Matina     772.64       39961\n",
       "80         7       Guácimo     576.48       41082\n",
       "\n",
       "[81 rows x 4 columns]"
      ]
     },
     "execution_count": 18,
     "metadata": {},
     "output_type": "execute_result"
    }
   ],
   "source": [
    "data"
   ]
  },
  {
   "cell_type": "code",
   "execution_count": 10,
   "id": "69b6d226",
   "metadata": {},
   "outputs": [],
   "source": [
    "import geopandas as gpd"
   ]
  },
  {
   "cell_type": "code",
   "execution_count": 14,
   "id": "4f2cf141",
   "metadata": {},
   "outputs": [],
   "source": [
    "geo = gpd.read_file('./datos/cr/cantones.geojson')"
   ]
  },
  {
   "cell_type": "code",
   "execution_count": 22,
   "id": "1d6208de",
   "metadata": {},
   "outputs": [],
   "source": [
    "c1 = set(geo['NAME_2'].values)"
   ]
  },
  {
   "cell_type": "code",
   "execution_count": 23,
   "id": "971a8013",
   "metadata": {},
   "outputs": [],
   "source": [
    "c2 = set(data['Nombre'].values)"
   ]
  },
  {
   "cell_type": "code",
   "execution_count": 24,
   "id": "c42c9c87",
   "metadata": {},
   "outputs": [
    {
     "data": {
      "text/plain": [
       "{'Aguirre', 'Alfaro Ruiz', 'León Cortés', 'Vásquez de Coronado'}"
      ]
     },
     "execution_count": 24,
     "metadata": {},
     "output_type": "execute_result"
    }
   ],
   "source": [
    "c1.difference(c2)"
   ]
  },
  {
   "cell_type": "code",
   "execution_count": 25,
   "id": "468cb711",
   "metadata": {},
   "outputs": [
    {
     "data": {
      "text/plain": [
       "{'León Cortés Castro', 'Quepos', 'Vázquez de Coronado', 'Zarcero'}"
      ]
     },
     "execution_count": 25,
     "metadata": {},
     "output_type": "execute_result"
    }
   ],
   "source": [
    "c2.difference(c1)"
   ]
  },
  {
   "cell_type": "code",
   "execution_count": 28,
   "id": "4757e655",
   "metadata": {},
   "outputs": [
    {
     "data": {
      "text/plain": [
       "81"
      ]
     },
     "execution_count": 28,
     "metadata": {},
     "output_type": "execute_result"
    }
   ],
   "source": [
    "len(c1)"
   ]
  },
  {
   "cell_type": "code",
   "execution_count": 29,
   "id": "913a2deb",
   "metadata": {},
   "outputs": [
    {
     "data": {
      "text/plain": [
       "81"
      ]
     },
     "execution_count": 29,
     "metadata": {},
     "output_type": "execute_result"
    }
   ],
   "source": [
    "len(c2)"
   ]
  },
  {
   "cell_type": "code",
   "execution_count": 26,
   "id": "0e1975b8",
   "metadata": {},
   "outputs": [
    {
     "data": {
      "text/plain": [
       "{'Abangares',\n",
       " 'Acosta',\n",
       " 'Aguirre',\n",
       " 'Alajuela',\n",
       " 'Alajuelita',\n",
       " 'Alfaro Ruiz',\n",
       " 'Alvarado',\n",
       " 'Aserrí',\n",
       " 'Atenas',\n",
       " 'Bagaces',\n",
       " 'Barva',\n",
       " 'Belén',\n",
       " 'Buenos Aires',\n",
       " 'Carrillo',\n",
       " 'Cartago',\n",
       " 'Cañas',\n",
       " 'Corredores',\n",
       " 'Coto Brus',\n",
       " 'Curridabat',\n",
       " 'Desamparados',\n",
       " 'Dota',\n",
       " 'El Guarco',\n",
       " 'Escazú',\n",
       " 'Esparza',\n",
       " 'Flores',\n",
       " 'Garabito',\n",
       " 'Goicoechea',\n",
       " 'Golfito',\n",
       " 'Grecia',\n",
       " 'Guatuso',\n",
       " 'Guácimo',\n",
       " 'Heredia',\n",
       " 'Hojancha',\n",
       " 'Jiménez',\n",
       " 'La Cruz',\n",
       " 'La Unión',\n",
       " 'León Cortés',\n",
       " 'Liberia',\n",
       " 'Limón',\n",
       " 'Los Chiles',\n",
       " 'Matina',\n",
       " 'Montes de Oca',\n",
       " 'Montes de Oro',\n",
       " 'Mora',\n",
       " 'Moravia',\n",
       " 'Nandayure',\n",
       " 'Naranjo',\n",
       " 'Nicoya',\n",
       " 'Oreamuno',\n",
       " 'Orotina',\n",
       " 'Osa',\n",
       " 'Palmares',\n",
       " 'Paraíso',\n",
       " 'Parrita',\n",
       " 'Pococí',\n",
       " 'Poás',\n",
       " 'Puntarenas',\n",
       " 'Puriscal',\n",
       " 'Pérez Zeledón',\n",
       " 'San Carlos',\n",
       " 'San Isidro',\n",
       " 'San José',\n",
       " 'San Mateo',\n",
       " 'San Pablo',\n",
       " 'San Rafael',\n",
       " 'San Ramón',\n",
       " 'Santa Ana',\n",
       " 'Santa Bárbara',\n",
       " 'Santa Cruz',\n",
       " 'Santo Domingo',\n",
       " 'Sarapiquí',\n",
       " 'Siquirres',\n",
       " 'Talamanca',\n",
       " 'Tarrazú',\n",
       " 'Tibás',\n",
       " 'Tilarán',\n",
       " 'Turrialba',\n",
       " 'Turrubares',\n",
       " 'Upala',\n",
       " 'Valverde Vega',\n",
       " 'Vásquez de Coronado'}"
      ]
     },
     "execution_count": 26,
     "metadata": {},
     "output_type": "execute_result"
    }
   ],
   "source": [
    "c1"
   ]
  },
  {
   "cell_type": "code",
   "execution_count": 27,
   "id": "a35d3d59",
   "metadata": {},
   "outputs": [
    {
     "data": {
      "text/plain": [
       "{'Abangares',\n",
       " 'Acosta',\n",
       " 'Alajuela',\n",
       " 'Alajuelita',\n",
       " 'Alvarado',\n",
       " 'Aserrí',\n",
       " 'Atenas',\n",
       " 'Bagaces',\n",
       " 'Barva',\n",
       " 'Belén',\n",
       " 'Buenos Aires',\n",
       " 'Carrillo',\n",
       " 'Cartago',\n",
       " 'Cañas',\n",
       " 'Corredores',\n",
       " 'Coto Brus',\n",
       " 'Curridabat',\n",
       " 'Desamparados',\n",
       " 'Dota',\n",
       " 'El Guarco',\n",
       " 'Escazú',\n",
       " 'Esparza',\n",
       " 'Flores',\n",
       " 'Garabito',\n",
       " 'Goicoechea',\n",
       " 'Golfito',\n",
       " 'Grecia',\n",
       " 'Guatuso',\n",
       " 'Guácimo',\n",
       " 'Heredia',\n",
       " 'Hojancha',\n",
       " 'Jiménez',\n",
       " 'La Cruz',\n",
       " 'La Unión',\n",
       " 'León Cortés Castro',\n",
       " 'Liberia',\n",
       " 'Limón',\n",
       " 'Los Chiles',\n",
       " 'Matina',\n",
       " 'Montes de Oca',\n",
       " 'Montes de Oro',\n",
       " 'Mora',\n",
       " 'Moravia',\n",
       " 'Nandayure',\n",
       " 'Naranjo',\n",
       " 'Nicoya',\n",
       " 'Oreamuno',\n",
       " 'Orotina',\n",
       " 'Osa',\n",
       " 'Palmares',\n",
       " 'Paraíso',\n",
       " 'Parrita',\n",
       " 'Pococí',\n",
       " 'Poás',\n",
       " 'Puntarenas',\n",
       " 'Puriscal',\n",
       " 'Pérez Zeledón',\n",
       " 'Quepos',\n",
       " 'San Carlos',\n",
       " 'San Isidro',\n",
       " 'San José',\n",
       " 'San Mateo',\n",
       " 'San Pablo',\n",
       " 'San Rafael',\n",
       " 'San Ramón',\n",
       " 'Santa Ana',\n",
       " 'Santa Bárbara',\n",
       " 'Santa Cruz',\n",
       " 'Santo Domingo',\n",
       " 'Sarapiquí',\n",
       " 'Siquirres',\n",
       " 'Talamanca',\n",
       " 'Tarrazú',\n",
       " 'Tibás',\n",
       " 'Tilarán',\n",
       " 'Turrialba',\n",
       " 'Turrubares',\n",
       " 'Upala',\n",
       " 'Valverde Vega',\n",
       " 'Vázquez de Coronado',\n",
       " 'Zarcero'}"
      ]
     },
     "execution_count": 27,
     "metadata": {},
     "output_type": "execute_result"
    }
   ],
   "source": [
    "c2"
   ]
  },
  {
   "cell_type": "code",
   "execution_count": 38,
   "id": "c63f915b",
   "metadata": {},
   "outputs": [
    {
     "data": {
      "text/plain": [
       "array([1952, 1956, 1960, 1964, 1968, 1972, 1976, 1980, 1984, 1988, 1992,\n",
       "       1996, 2000, 2004, 2008, 2012])"
      ]
     },
     "execution_count": 38,
     "metadata": {},
     "output_type": "execute_result"
    }
   ],
   "source": [
    "pd.read_csv('./datos/world/country_data.csv', sep=';').Year.unique()"
   ]
  },
  {
   "cell_type": "code",
   "execution_count": 42,
   "id": "4723da45",
   "metadata": {},
   "outputs": [
    {
     "name": "stdout",
     "output_type": "stream",
     "text": [
      "<class 'pandas.core.frame.DataFrame'>\n",
      "Int64Index: 186 entries, 905 to 2958\n",
      "Data columns (total 43 columns):\n",
      " #   Column                                            Non-Null Count  Dtype  \n",
      "---  ------                                            --------------  -----  \n",
      " 0   Year                                              186 non-null    int64  \n",
      " 1   Country                                           186 non-null    object \n",
      " 2   Region                                            186 non-null    object \n",
      " 3   Continent                                         186 non-null    object \n",
      " 4   Leap Year                                         186 non-null    object \n",
      " 5   Region-Geo                                        186 non-null    object \n",
      " 6   ChildrenPerWoman                                  186 non-null    object \n",
      " 7   CO2Emissions                                      174 non-null    object \n",
      " 8   DemocracyScore                                    151 non-null    float64\n",
      " 9   IncomePerPerson                                   179 non-null    object \n",
      " 10  Incomeshareofpoorest10pct                         0 non-null      object \n",
      " 11  Incomeshareofrichest10pct                         0 non-null      object \n",
      " 12  Infantmortality                                   166 non-null    object \n",
      " 13  Inflation                                         164 non-null    object \n",
      " 14  Internetusers                                     171 non-null    object \n",
      " 15  LifeExpectancy                                    185 non-null    object \n",
      " 16  Literacyrateadulttotal                            26 non-null     object \n",
      " 17  Literacyrateyouthtotal                            26 non-null     object \n",
      " 18  Longtermunemploymentrate                          0 non-null      object \n",
      " 19  Medianage                                         0 non-null      object \n",
      " 20  MedicalDoctors                                    48 non-null     object \n",
      " 21  Murder                                            0 non-null      object \n",
      " 22  Murderedmen                                       0 non-null      object \n",
      " 23  Murderedwomen                                     0 non-null      object \n",
      " 24  Número de registros                               186 non-null    int64  \n",
      " 25  Oilconsumptionperperson                           62 non-null     object \n",
      " 26  Populationdensity                                 178 non-null    object \n",
      " 27  Populationgrowth                                  173 non-null    object \n",
      " 28  Populationtotal                                   186 non-null    int64  \n",
      " 29  Poverty                                           41 non-null     object \n",
      " 30  Ratioofgirlstoboysinprimaryandsecondaryeducation  124 non-null    object \n",
      " 31  Renewablewater                                    0 non-null      object \n",
      " 32  Residentialelectricityuseperperson                123 non-null    object \n",
      " 33  Suicideage15to29                                  21 non-null     object \n",
      " 34  Taxrevenue                                        105 non-null    object \n",
      " 35  Teenfertilityrate                                 177 non-null    object \n",
      " 36  TotalGDPUS                                        162 non-null    object \n",
      " 37  TotalhealthspendingperpersonUS                    160 non-null    object \n",
      " 38  Tradebalance                                      156 non-null    object \n",
      " 39  Trafficdeaths                                     0 non-null      object \n",
      " 40  Urbanpopulationgrowth                             173 non-null    object \n",
      " 41  UrbanpopulationTotal                              173 non-null    object \n",
      " 42  YearlyCO2emission                                 174 non-null    object \n",
      "dtypes: float64(1), int64(3), object(39)\n",
      "memory usage: 63.9+ KB\n"
     ]
    }
   ],
   "source": [
    "pd.read_csv('./datos/world/country_data.csv', sep=';').query('Year==2008').info()"
   ]
  },
  {
   "cell_type": "code",
   "execution_count": 49,
   "id": "6ce20579",
   "metadata": {},
   "outputs": [],
   "source": [
    "data = pd.read_csv('./datos/world/lisa_charlotte_rost_one_chart.csv')"
   ]
  },
  {
   "cell_type": "code",
   "execution_count": 44,
   "id": "fad2264a",
   "metadata": {},
   "outputs": [],
   "source": [
    "import geopandas as gpd"
   ]
  },
  {
   "cell_type": "code",
   "execution_count": 46,
   "id": "a8192524",
   "metadata": {},
   "outputs": [],
   "source": [
    "geo = gpd.read_file('./datos/world/countries.geojson')"
   ]
  },
  {
   "cell_type": "code",
   "execution_count": 47,
   "id": "297cfc4c",
   "metadata": {},
   "outputs": [
    {
     "data": {
      "text/html": [
       "<div>\n",
       "<style scoped>\n",
       "    .dataframe tbody tr th:only-of-type {\n",
       "        vertical-align: middle;\n",
       "    }\n",
       "\n",
       "    .dataframe tbody tr th {\n",
       "        vertical-align: top;\n",
       "    }\n",
       "\n",
       "    .dataframe thead th {\n",
       "        text-align: right;\n",
       "    }\n",
       "</style>\n",
       "<table border=\"1\" class=\"dataframe\">\n",
       "  <thead>\n",
       "    <tr style=\"text-align: right;\">\n",
       "      <th></th>\n",
       "      <th>ADMIN</th>\n",
       "      <th>ISO_A3</th>\n",
       "      <th>ISO_A2</th>\n",
       "      <th>geometry</th>\n",
       "    </tr>\n",
       "  </thead>\n",
       "  <tbody>\n",
       "    <tr>\n",
       "      <th>0</th>\n",
       "      <td>Aruba</td>\n",
       "      <td>ABW</td>\n",
       "      <td>AW</td>\n",
       "      <td>MULTIPOLYGON (((-69.99694 12.57758, -69.93639 ...</td>\n",
       "    </tr>\n",
       "    <tr>\n",
       "      <th>1</th>\n",
       "      <td>Afghanistan</td>\n",
       "      <td>AFG</td>\n",
       "      <td>AF</td>\n",
       "      <td>MULTIPOLYGON (((71.04980 38.40866, 71.05714 38...</td>\n",
       "    </tr>\n",
       "    <tr>\n",
       "      <th>2</th>\n",
       "      <td>Angola</td>\n",
       "      <td>AGO</td>\n",
       "      <td>AO</td>\n",
       "      <td>MULTIPOLYGON (((11.73752 -16.69258, 11.73851 -...</td>\n",
       "    </tr>\n",
       "    <tr>\n",
       "      <th>3</th>\n",
       "      <td>Anguilla</td>\n",
       "      <td>AIA</td>\n",
       "      <td>AI</td>\n",
       "      <td>MULTIPOLYGON (((-63.03767 18.21296, -63.09952 ...</td>\n",
       "    </tr>\n",
       "    <tr>\n",
       "      <th>4</th>\n",
       "      <td>Albania</td>\n",
       "      <td>ALB</td>\n",
       "      <td>AL</td>\n",
       "      <td>MULTIPOLYGON (((19.74777 42.57890, 19.74601 42...</td>\n",
       "    </tr>\n",
       "    <tr>\n",
       "      <th>...</th>\n",
       "      <td>...</td>\n",
       "      <td>...</td>\n",
       "      <td>...</td>\n",
       "      <td>...</td>\n",
       "    </tr>\n",
       "    <tr>\n",
       "      <th>250</th>\n",
       "      <td>Samoa</td>\n",
       "      <td>WSM</td>\n",
       "      <td>WS</td>\n",
       "      <td>MULTIPOLYGON (((-171.57002 -13.93816, -171.564...</td>\n",
       "    </tr>\n",
       "    <tr>\n",
       "      <th>251</th>\n",
       "      <td>Yemen</td>\n",
       "      <td>YEM</td>\n",
       "      <td>YE</td>\n",
       "      <td>MULTIPOLYGON (((53.30824 12.11839, 53.31027 12...</td>\n",
       "    </tr>\n",
       "    <tr>\n",
       "      <th>252</th>\n",
       "      <td>South Africa</td>\n",
       "      <td>ZAF</td>\n",
       "      <td>ZA</td>\n",
       "      <td>MULTIPOLYGON (((37.86378 -46.94085, 37.83644 -...</td>\n",
       "    </tr>\n",
       "    <tr>\n",
       "      <th>253</th>\n",
       "      <td>Zambia</td>\n",
       "      <td>ZMB</td>\n",
       "      <td>ZM</td>\n",
       "      <td>MULTIPOLYGON (((31.11984 -8.61663, 31.14102 -8...</td>\n",
       "    </tr>\n",
       "    <tr>\n",
       "      <th>254</th>\n",
       "      <td>Zimbabwe</td>\n",
       "      <td>ZWE</td>\n",
       "      <td>ZW</td>\n",
       "      <td>MULTIPOLYGON (((30.01065 -15.64623, 30.05024 -...</td>\n",
       "    </tr>\n",
       "  </tbody>\n",
       "</table>\n",
       "<p>255 rows × 4 columns</p>\n",
       "</div>"
      ],
      "text/plain": [
       "            ADMIN ISO_A3 ISO_A2  \\\n",
       "0           Aruba    ABW     AW   \n",
       "1     Afghanistan    AFG     AF   \n",
       "2          Angola    AGO     AO   \n",
       "3        Anguilla    AIA     AI   \n",
       "4         Albania    ALB     AL   \n",
       "..            ...    ...    ...   \n",
       "250         Samoa    WSM     WS   \n",
       "251         Yemen    YEM     YE   \n",
       "252  South Africa    ZAF     ZA   \n",
       "253        Zambia    ZMB     ZM   \n",
       "254      Zimbabwe    ZWE     ZW   \n",
       "\n",
       "                                              geometry  \n",
       "0    MULTIPOLYGON (((-69.99694 12.57758, -69.93639 ...  \n",
       "1    MULTIPOLYGON (((71.04980 38.40866, 71.05714 38...  \n",
       "2    MULTIPOLYGON (((11.73752 -16.69258, 11.73851 -...  \n",
       "3    MULTIPOLYGON (((-63.03767 18.21296, -63.09952 ...  \n",
       "4    MULTIPOLYGON (((19.74777 42.57890, 19.74601 42...  \n",
       "..                                                 ...  \n",
       "250  MULTIPOLYGON (((-171.57002 -13.93816, -171.564...  \n",
       "251  MULTIPOLYGON (((53.30824 12.11839, 53.31027 12...  \n",
       "252  MULTIPOLYGON (((37.86378 -46.94085, 37.83644 -...  \n",
       "253  MULTIPOLYGON (((31.11984 -8.61663, 31.14102 -8...  \n",
       "254  MULTIPOLYGON (((30.01065 -15.64623, 30.05024 -...  \n",
       "\n",
       "[255 rows x 4 columns]"
      ]
     },
     "execution_count": 47,
     "metadata": {},
     "output_type": "execute_result"
    }
   ],
   "source": [
    "geo"
   ]
  },
  {
   "cell_type": "code",
   "execution_count": 57,
   "id": "b902191a",
   "metadata": {},
   "outputs": [
    {
     "data": {
      "text/plain": [
       "187"
      ]
     },
     "execution_count": 57,
     "metadata": {},
     "output_type": "execute_result"
    }
   ],
   "source": [
    "len(c2)"
   ]
  },
  {
   "cell_type": "code",
   "execution_count": 56,
   "id": "583b7c1a",
   "metadata": {},
   "outputs": [
    {
     "data": {
      "text/plain": [
       "255"
      ]
     },
     "execution_count": 56,
     "metadata": {},
     "output_type": "execute_result"
    }
   ],
   "source": [
    "len(c1)"
   ]
  },
  {
   "cell_type": "code",
   "execution_count": 48,
   "id": "00368231",
   "metadata": {},
   "outputs": [],
   "source": [
    "c1=set(geo['ADMIN'].values)"
   ]
  },
  {
   "cell_type": "code",
   "execution_count": 50,
   "id": "7cd1197f",
   "metadata": {},
   "outputs": [],
   "source": [
    "c2=set(data['country'].values)"
   ]
  },
  {
   "cell_type": "code",
   "execution_count": 54,
   "id": "b9a21918",
   "metadata": {},
   "outputs": [
    {
     "data": {
      "text/plain": [
       "set()"
      ]
     },
     "execution_count": 54,
     "metadata": {},
     "output_type": "execute_result"
    }
   ],
   "source": [
    "c2.difference(c1)"
   ]
  },
  {
   "cell_type": "code",
   "execution_count": 53,
   "id": "84242e41",
   "metadata": {},
   "outputs": [
    {
     "data": {
      "text/plain": [
       "{'Akrotiri Sovereign Base Area',\n",
       " 'Aland',\n",
       " 'American Samoa',\n",
       " 'Anguilla',\n",
       " 'Antarctica',\n",
       " 'Aruba',\n",
       " 'Ashmore and Cartier Islands',\n",
       " 'Bajo Nuevo Bank (Petrel Is.)',\n",
       " 'Baykonur Cosmodrome',\n",
       " 'Bermuda',\n",
       " 'British Indian Ocean Territory',\n",
       " 'British Virgin Islands',\n",
       " 'Cayman Islands',\n",
       " 'Clipperton Island',\n",
       " 'Cook Islands',\n",
       " 'Coral Sea Islands',\n",
       " 'Curaçao',\n",
       " 'Cyprus No Mans Area',\n",
       " 'Dhekelia Sovereign Base Area',\n",
       " 'Falkland Islands',\n",
       " 'Faroe Islands',\n",
       " 'French Polynesia',\n",
       " 'French Southern and Antarctic Lands',\n",
       " 'Gibraltar',\n",
       " 'Greenland',\n",
       " 'Guam',\n",
       " 'Guernsey',\n",
       " 'Heard Island and McDonald Islands',\n",
       " 'Hong Kong S.A.R.',\n",
       " 'Indian Ocean Territories',\n",
       " 'Isle of Man',\n",
       " 'Jersey',\n",
       " 'Kosovo',\n",
       " 'Liechtenstein',\n",
       " 'Macao S.A.R',\n",
       " 'Monaco',\n",
       " 'Montserrat',\n",
       " 'Nauru',\n",
       " 'New Caledonia',\n",
       " 'Niue',\n",
       " 'Norfolk Island',\n",
       " 'Northern Cyprus',\n",
       " 'Northern Mariana Islands',\n",
       " 'Palau',\n",
       " 'Pitcairn Islands',\n",
       " 'Puerto Rico',\n",
       " 'Saint Barthelemy',\n",
       " 'Saint Helena',\n",
       " 'Saint Kitts and Nevis',\n",
       " 'Saint Martin',\n",
       " 'Saint Pierre and Miquelon',\n",
       " 'San Marino',\n",
       " 'Scarborough Reef',\n",
       " 'Serranilla Bank',\n",
       " 'Siachen Glacier',\n",
       " 'Sint Maarten',\n",
       " 'Somaliland',\n",
       " 'South Georgia and South Sandwich Islands',\n",
       " 'Spratly Islands',\n",
       " 'Taiwan',\n",
       " 'Turks and Caicos Islands',\n",
       " 'Tuvalu',\n",
       " 'US Naval Base Guantanamo Bay',\n",
       " 'United States Minor Outlying Islands',\n",
       " 'United States Virgin Islands',\n",
       " 'Vatican',\n",
       " 'Wallis and Futuna',\n",
       " 'Western Sahara'}"
      ]
     },
     "execution_count": 53,
     "metadata": {},
     "output_type": "execute_result"
    }
   ],
   "source": [
    "c1.difference(c2)"
   ]
  },
  {
   "cell_type": "code",
   "execution_count": null,
   "id": "bda042f4",
   "metadata": {},
   "outputs": [],
   "source": []
  }
 ],
 "metadata": {
  "kernelspec": {
   "display_name": "ironhack",
   "language": "python",
   "name": "ironhack"
  },
  "language_info": {
   "codemirror_mode": {
    "name": "ipython",
    "version": 3
   },
   "file_extension": ".py",
   "mimetype": "text/x-python",
   "name": "python",
   "nbconvert_exporter": "python",
   "pygments_lexer": "ipython3",
   "version": "3.10.6"
  }
 },
 "nbformat": 4,
 "nbformat_minor": 5
}
